{
 "cells": [
  {
   "cell_type": "code",
   "execution_count": 1,
   "id": "9c8d7b90",
   "metadata": {},
   "outputs": [
    {
     "name": "stderr",
     "output_type": "stream",
     "text": [
      "/home/hali/miniconda3/envs/hali/lib/python3.11/site-packages/tqdm/auto.py:21: TqdmWarning: IProgress not found. Please update jupyter and ipywidgets. See https://ipywidgets.readthedocs.io/en/stable/user_install.html\n",
      "  from .autonotebook import tqdm as notebook_tqdm\n"
     ]
    }
   ],
   "source": [
    "#Packages\n",
    "import torch \n",
    "import torch.nn as nn\n",
    "import numpy as np\n",
    "import pandas as pd\n",
    "import sys\n",
    "# sys.path.insert(0, './miniconda3/envs/hali/lib/python3.11/site-packages')\n",
    "from datasets import load_dataset"
   ]
  },
  {
   "cell_type": "code",
   "execution_count": 2,
   "id": "acb04a23",
   "metadata": {},
   "outputs": [],
   "source": [
    "#Download data\n",
    "train_set = load_dataset(\"ms_marco\", \"v1.1\", split=\"train\")\n",
    "val_set = load_dataset(\"ms_marco\", \"v1.1\", split=\"validation\")\n",
    "test_set = load_dataset(\"ms_marco\", \"v1.1\", split=\"test\") "
   ]
  },
  {
   "cell_type": "code",
   "execution_count": 3,
   "id": "7e8531dd",
   "metadata": {},
   "outputs": [],
   "source": [
    "train = train_set.to_pandas()\n",
    "val = val_set.to_pandas()\n",
    "test = test_set.to_pandas()"
   ]
  },
  {
   "cell_type": "code",
   "execution_count": 4,
   "id": "cf318cbf",
   "metadata": {},
   "outputs": [
    {
     "data": {
      "text/html": [
       "<div>\n",
       "<style scoped>\n",
       "    .dataframe tbody tr th:only-of-type {\n",
       "        vertical-align: middle;\n",
       "    }\n",
       "\n",
       "    .dataframe tbody tr th {\n",
       "        vertical-align: top;\n",
       "    }\n",
       "\n",
       "    .dataframe thead th {\n",
       "        text-align: right;\n",
       "    }\n",
       "</style>\n",
       "<table border=\"1\" class=\"dataframe\">\n",
       "  <thead>\n",
       "    <tr style=\"text-align: right;\">\n",
       "      <th></th>\n",
       "      <th>answers</th>\n",
       "      <th>passages</th>\n",
       "      <th>query</th>\n",
       "      <th>query_id</th>\n",
       "      <th>query_type</th>\n",
       "      <th>wellFormedAnswers</th>\n",
       "    </tr>\n",
       "  </thead>\n",
       "  <tbody>\n",
       "    <tr>\n",
       "      <th>0</th>\n",
       "      <td>[Results-Based Accountability is a disciplined...</td>\n",
       "      <td>{'is_selected': [0, 0, 0, 0, 0, 1, 0, 0, 0, 0]...</td>\n",
       "      <td>what is rba</td>\n",
       "      <td>19699</td>\n",
       "      <td>description</td>\n",
       "      <td>[]</td>\n",
       "    </tr>\n",
       "    <tr>\n",
       "      <th>1</th>\n",
       "      <td>[Yes]</td>\n",
       "      <td>{'is_selected': [0, 1, 0, 0, 0, 0, 0], 'passag...</td>\n",
       "      <td>was ronald reagan a democrat</td>\n",
       "      <td>19700</td>\n",
       "      <td>description</td>\n",
       "      <td>[]</td>\n",
       "    </tr>\n",
       "    <tr>\n",
       "      <th>2</th>\n",
       "      <td>[20-25 minutes]</td>\n",
       "      <td>{'is_selected': [0, 0, 0, 0, 1, 0, 0, 0, 0, 0]...</td>\n",
       "      <td>how long do you need for sydney and surroundin...</td>\n",
       "      <td>19701</td>\n",
       "      <td>numeric</td>\n",
       "      <td>[]</td>\n",
       "    </tr>\n",
       "    <tr>\n",
       "      <th>3</th>\n",
       "      <td>[$11 to $22 per square foot]</td>\n",
       "      <td>{'is_selected': [0, 0, 0, 0, 0, 0, 0, 0, 1], '...</td>\n",
       "      <td>price to install tile in shower</td>\n",
       "      <td>19702</td>\n",
       "      <td>numeric</td>\n",
       "      <td>[]</td>\n",
       "    </tr>\n",
       "    <tr>\n",
       "      <th>4</th>\n",
       "      <td>[Due to symptoms in the body]</td>\n",
       "      <td>{'is_selected': [0, 0, 1, 0, 0, 0, 0, 0], 'pas...</td>\n",
       "      <td>why conversion observed in body</td>\n",
       "      <td>19703</td>\n",
       "      <td>description</td>\n",
       "      <td>[]</td>\n",
       "    </tr>\n",
       "  </tbody>\n",
       "</table>\n",
       "</div>"
      ],
      "text/plain": [
       "                                             answers  \\\n",
       "0  [Results-Based Accountability is a disciplined...   \n",
       "1                                              [Yes]   \n",
       "2                                    [20-25 minutes]   \n",
       "3                       [$11 to $22 per square foot]   \n",
       "4                      [Due to symptoms in the body]   \n",
       "\n",
       "                                            passages  \\\n",
       "0  {'is_selected': [0, 0, 0, 0, 0, 1, 0, 0, 0, 0]...   \n",
       "1  {'is_selected': [0, 1, 0, 0, 0, 0, 0], 'passag...   \n",
       "2  {'is_selected': [0, 0, 0, 0, 1, 0, 0, 0, 0, 0]...   \n",
       "3  {'is_selected': [0, 0, 0, 0, 0, 0, 0, 0, 1], '...   \n",
       "4  {'is_selected': [0, 0, 1, 0, 0, 0, 0, 0], 'pas...   \n",
       "\n",
       "                                               query  query_id   query_type  \\\n",
       "0                                        what is rba     19699  description   \n",
       "1                       was ronald reagan a democrat     19700  description   \n",
       "2  how long do you need for sydney and surroundin...     19701      numeric   \n",
       "3                    price to install tile in shower     19702      numeric   \n",
       "4                    why conversion observed in body     19703  description   \n",
       "\n",
       "  wellFormedAnswers  \n",
       "0                []  \n",
       "1                []  \n",
       "2                []  \n",
       "3                []  \n",
       "4                []  "
      ]
     },
     "execution_count": 4,
     "metadata": {},
     "output_type": "execute_result"
    }
   ],
   "source": [
    "train.head()"
   ]
  },
  {
   "cell_type": "code",
   "execution_count": null,
   "id": "2be4caf1",
   "metadata": {},
   "outputs": [],
   "source": [
    "train.to_csv(\"train.pa\",index=False)"
   ]
  },
  {
   "cell_type": "code",
   "execution_count": null,
   "id": "67cfdf1f",
   "metadata": {},
   "outputs": [],
   "source": [
    "ex = pd.read_csv(\"train.csv\")"
   ]
  },
  {
   "cell_type": "code",
   "execution_count": null,
   "id": "5f337e3b",
   "metadata": {},
   "outputs": [],
   "source": [
    "ex.head()"
   ]
  },
  {
   "cell_type": "code",
   "execution_count": null,
   "id": "8e0dcd08",
   "metadata": {},
   "outputs": [],
   "source": [
    "val.head()"
   ]
  },
  {
   "cell_type": "code",
   "execution_count": null,
   "id": "ca16cc14",
   "metadata": {},
   "outputs": [],
   "source": [
    "val.to_csv(\"val.csv\",index=False)"
   ]
  },
  {
   "cell_type": "code",
   "execution_count": null,
   "id": "2a0f11c6",
   "metadata": {},
   "outputs": [],
   "source": [
    "test.head()"
   ]
  },
  {
   "cell_type": "code",
   "execution_count": null,
   "id": "355a99e1",
   "metadata": {},
   "outputs": [],
   "source": [
    "test.to_csv(\"test.csv\",index=False)"
   ]
  },
  {
   "cell_type": "markdown",
   "id": "a8e2d054",
   "metadata": {},
   "source": [
    "# Making Sentence Tokenizer"
   ]
  },
  {
   "cell_type": "code",
   "execution_count": null,
   "id": "cf6c0a6a",
   "metadata": {},
   "outputs": [],
   "source": [
    "#Making txt file of sentences in answers, passages, and query columns in train dataset\n",
    "#first queries\n",
    "corpus = list(train[\"query\"].values)\n",
    "\n",
    "print(corpus[:3])"
   ]
  },
  {
   "cell_type": "code",
   "execution_count": null,
   "id": "c13b85d9",
   "metadata": {},
   "outputs": [],
   "source": [
    "#store passages as one list\n",
    "passages = list(np.concatenate(train[\"passages\"].apply(lambda x: x[\"passage_text\"])))"
   ]
  },
  {
   "cell_type": "code",
   "execution_count": null,
   "id": "1b1d01cb",
   "metadata": {},
   "outputs": [],
   "source": [
    "len(passages)"
   ]
  },
  {
   "cell_type": "code",
   "execution_count": null,
   "id": "b52efa9b",
   "metadata": {},
   "outputs": [],
   "source": [
    "passages[:3]"
   ]
  },
  {
   "cell_type": "code",
   "execution_count": null,
   "id": "08c3b0d2",
   "metadata": {},
   "outputs": [],
   "source": [
    "#add to corpus\n",
    "corpus.extend(passages)"
   ]
  },
  {
   "cell_type": "code",
   "execution_count": null,
   "id": "68128805",
   "metadata": {},
   "outputs": [],
   "source": [
    "len(corpus)"
   ]
  },
  {
   "cell_type": "code",
   "execution_count": null,
   "id": "3d862ac4",
   "metadata": {},
   "outputs": [],
   "source": [
    "list(np.concatenate(train[\"answers\"]))"
   ]
  },
  {
   "cell_type": "code",
   "execution_count": null,
   "id": "97a0fc3a",
   "metadata": {},
   "outputs": [],
   "source": [
    "#Add answers to corpus\n",
    "answers = list(np.concatenate(train[\"answers\"]))\n",
    "corpus.extend(answers)"
   ]
  },
  {
   "cell_type": "code",
   "execution_count": null,
   "id": "fbec5e6c",
   "metadata": {},
   "outputs": [],
   "source": [
    "len(corpus)"
   ]
  },
  {
   "cell_type": "code",
   "execution_count": null,
   "id": "63eff764",
   "metadata": {},
   "outputs": [],
   "source": [
    "#make a new text file with the ms_marco sentences\n",
    "f = open(\"ms_marco.txt\", \"x\")\n",
    "for line in corpus:\n",
    "    f.write(f\"{line}\\n\")\n",
    "f.close()"
   ]
  },
  {
   "cell_type": "code",
   "execution_count": null,
   "id": "acb3b3dd",
   "metadata": {},
   "outputs": [],
   "source": [
    "#Training new sentence piece tokenizer\n",
    "import sentencepiece as spm\n",
    "\n",
    "# Input text file for training\n",
    "input_file = \"/home/hali/halimlx/Week2/ms_marco.txt\"\n",
    "\n",
    "# Output model prefix\n",
    "model_prefix = \"/home/hali/halimlx/Week2/ms_spm_model\"\n",
    "\n",
    "# Vocabulary size (adjust as needed)\n",
    "vocab_size = 32000\n",
    "\n",
    "# Train SentencePiece model\n",
    "spm.SentencePieceTrainer.train(\n",
    "    f\"--input={input_file} --model_prefix={model_prefix} --vocab_size={vocab_size}\"\n",
    ")"
   ]
  },
  {
   "cell_type": "code",
   "execution_count": null,
   "id": "5e39fe13",
   "metadata": {},
   "outputs": [],
   "source": [
    "# Load SentencePiece model\n",
    "model_path = \"/home/hali/halimlx/Week2/ms_spm_model.model\"\n",
    "sp = spm.SentencePieceProcessor()\n",
    "sp.load(model_path)"
   ]
  },
  {
   "cell_type": "code",
   "execution_count": null,
   "id": "5eb0e848",
   "metadata": {},
   "outputs": [],
   "source": [
    "sentence = \"This is a sample sentence.\"\n",
    "tokens = sp.encode(sentence)\n",
    "print(tokens)"
   ]
  },
  {
   "cell_type": "markdown",
   "id": "447f3d82",
   "metadata": {},
   "source": [
    "# Make new csv files for train, val and test sets\n"
   ]
  },
  {
   "cell_type": "code",
   "execution_count": 5,
   "id": "fef8a2c8",
   "metadata": {},
   "outputs": [
    {
     "data": {
      "text/html": [
       "<div>\n",
       "<style scoped>\n",
       "    .dataframe tbody tr th:only-of-type {\n",
       "        vertical-align: middle;\n",
       "    }\n",
       "\n",
       "    .dataframe tbody tr th {\n",
       "        vertical-align: top;\n",
       "    }\n",
       "\n",
       "    .dataframe thead th {\n",
       "        text-align: right;\n",
       "    }\n",
       "</style>\n",
       "<table border=\"1\" class=\"dataframe\">\n",
       "  <thead>\n",
       "    <tr style=\"text-align: right;\">\n",
       "      <th></th>\n",
       "      <th>answers</th>\n",
       "      <th>passages</th>\n",
       "      <th>query</th>\n",
       "      <th>query_id</th>\n",
       "      <th>query_type</th>\n",
       "      <th>wellFormedAnswers</th>\n",
       "    </tr>\n",
       "  </thead>\n",
       "  <tbody>\n",
       "    <tr>\n",
       "      <th>0</th>\n",
       "      <td>[Results-Based Accountability is a disciplined...</td>\n",
       "      <td>{'is_selected': [0, 0, 0, 0, 0, 1, 0, 0, 0, 0]...</td>\n",
       "      <td>what is rba</td>\n",
       "      <td>19699</td>\n",
       "      <td>description</td>\n",
       "      <td>[]</td>\n",
       "    </tr>\n",
       "    <tr>\n",
       "      <th>1</th>\n",
       "      <td>[Yes]</td>\n",
       "      <td>{'is_selected': [0, 1, 0, 0, 0, 0, 0], 'passag...</td>\n",
       "      <td>was ronald reagan a democrat</td>\n",
       "      <td>19700</td>\n",
       "      <td>description</td>\n",
       "      <td>[]</td>\n",
       "    </tr>\n",
       "    <tr>\n",
       "      <th>2</th>\n",
       "      <td>[20-25 minutes]</td>\n",
       "      <td>{'is_selected': [0, 0, 0, 0, 1, 0, 0, 0, 0, 0]...</td>\n",
       "      <td>how long do you need for sydney and surroundin...</td>\n",
       "      <td>19701</td>\n",
       "      <td>numeric</td>\n",
       "      <td>[]</td>\n",
       "    </tr>\n",
       "    <tr>\n",
       "      <th>3</th>\n",
       "      <td>[$11 to $22 per square foot]</td>\n",
       "      <td>{'is_selected': [0, 0, 0, 0, 0, 0, 0, 0, 1], '...</td>\n",
       "      <td>price to install tile in shower</td>\n",
       "      <td>19702</td>\n",
       "      <td>numeric</td>\n",
       "      <td>[]</td>\n",
       "    </tr>\n",
       "    <tr>\n",
       "      <th>4</th>\n",
       "      <td>[Due to symptoms in the body]</td>\n",
       "      <td>{'is_selected': [0, 0, 1, 0, 0, 0, 0, 0], 'pas...</td>\n",
       "      <td>why conversion observed in body</td>\n",
       "      <td>19703</td>\n",
       "      <td>description</td>\n",
       "      <td>[]</td>\n",
       "    </tr>\n",
       "  </tbody>\n",
       "</table>\n",
       "</div>"
      ],
      "text/plain": [
       "                                             answers  \\\n",
       "0  [Results-Based Accountability is a disciplined...   \n",
       "1                                              [Yes]   \n",
       "2                                    [20-25 minutes]   \n",
       "3                       [$11 to $22 per square foot]   \n",
       "4                      [Due to symptoms in the body]   \n",
       "\n",
       "                                            passages  \\\n",
       "0  {'is_selected': [0, 0, 0, 0, 0, 1, 0, 0, 0, 0]...   \n",
       "1  {'is_selected': [0, 1, 0, 0, 0, 0, 0], 'passag...   \n",
       "2  {'is_selected': [0, 0, 0, 0, 1, 0, 0, 0, 0, 0]...   \n",
       "3  {'is_selected': [0, 0, 0, 0, 0, 0, 0, 0, 1], '...   \n",
       "4  {'is_selected': [0, 0, 1, 0, 0, 0, 0, 0], 'pas...   \n",
       "\n",
       "                                               query  query_id   query_type  \\\n",
       "0                                        what is rba     19699  description   \n",
       "1                       was ronald reagan a democrat     19700  description   \n",
       "2  how long do you need for sydney and surroundin...     19701      numeric   \n",
       "3                    price to install tile in shower     19702      numeric   \n",
       "4                    why conversion observed in body     19703  description   \n",
       "\n",
       "  wellFormedAnswers  \n",
       "0                []  \n",
       "1                []  \n",
       "2                []  \n",
       "3                []  \n",
       "4                []  "
      ]
     },
     "execution_count": 5,
     "metadata": {},
     "output_type": "execute_result"
    }
   ],
   "source": [
    "train.head()"
   ]
  },
  {
   "cell_type": "code",
   "execution_count": 6,
   "id": "d8c562cf",
   "metadata": {},
   "outputs": [],
   "source": [
    "new_train = train[[\"query\",\"passages\"]]"
   ]
  },
  {
   "cell_type": "code",
   "execution_count": 7,
   "id": "11118db5",
   "metadata": {},
   "outputs": [
    {
     "data": {
      "text/html": [
       "<div>\n",
       "<style scoped>\n",
       "    .dataframe tbody tr th:only-of-type {\n",
       "        vertical-align: middle;\n",
       "    }\n",
       "\n",
       "    .dataframe tbody tr th {\n",
       "        vertical-align: top;\n",
       "    }\n",
       "\n",
       "    .dataframe thead th {\n",
       "        text-align: right;\n",
       "    }\n",
       "</style>\n",
       "<table border=\"1\" class=\"dataframe\">\n",
       "  <thead>\n",
       "    <tr style=\"text-align: right;\">\n",
       "      <th></th>\n",
       "      <th>query</th>\n",
       "      <th>passages</th>\n",
       "    </tr>\n",
       "  </thead>\n",
       "  <tbody>\n",
       "    <tr>\n",
       "      <th>0</th>\n",
       "      <td>what is rba</td>\n",
       "      <td>{'is_selected': [0, 0, 0, 0, 0, 1, 0, 0, 0, 0]...</td>\n",
       "    </tr>\n",
       "    <tr>\n",
       "      <th>1</th>\n",
       "      <td>was ronald reagan a democrat</td>\n",
       "      <td>{'is_selected': [0, 1, 0, 0, 0, 0, 0], 'passag...</td>\n",
       "    </tr>\n",
       "    <tr>\n",
       "      <th>2</th>\n",
       "      <td>how long do you need for sydney and surroundin...</td>\n",
       "      <td>{'is_selected': [0, 0, 0, 0, 1, 0, 0, 0, 0, 0]...</td>\n",
       "    </tr>\n",
       "    <tr>\n",
       "      <th>3</th>\n",
       "      <td>price to install tile in shower</td>\n",
       "      <td>{'is_selected': [0, 0, 0, 0, 0, 0, 0, 0, 1], '...</td>\n",
       "    </tr>\n",
       "    <tr>\n",
       "      <th>4</th>\n",
       "      <td>why conversion observed in body</td>\n",
       "      <td>{'is_selected': [0, 0, 1, 0, 0, 0, 0, 0], 'pas...</td>\n",
       "    </tr>\n",
       "  </tbody>\n",
       "</table>\n",
       "</div>"
      ],
      "text/plain": [
       "                                               query  \\\n",
       "0                                        what is rba   \n",
       "1                       was ronald reagan a democrat   \n",
       "2  how long do you need for sydney and surroundin...   \n",
       "3                    price to install tile in shower   \n",
       "4                    why conversion observed in body   \n",
       "\n",
       "                                            passages  \n",
       "0  {'is_selected': [0, 0, 0, 0, 0, 1, 0, 0, 0, 0]...  \n",
       "1  {'is_selected': [0, 1, 0, 0, 0, 0, 0], 'passag...  \n",
       "2  {'is_selected': [0, 0, 0, 0, 1, 0, 0, 0, 0, 0]...  \n",
       "3  {'is_selected': [0, 0, 0, 0, 0, 0, 0, 0, 1], '...  \n",
       "4  {'is_selected': [0, 0, 1, 0, 0, 0, 0, 0], 'pas...  "
      ]
     },
     "execution_count": 7,
     "metadata": {},
     "output_type": "execute_result"
    }
   ],
   "source": [
    "new_train.head()"
   ]
  },
  {
   "cell_type": "code",
   "execution_count": 10,
   "id": "b5bfa371",
   "metadata": {},
   "outputs": [],
   "source": [
    "new_val= val[[\"query\",\"passages\"]]"
   ]
  },
  {
   "cell_type": "code",
   "execution_count": 11,
   "id": "82ad0d80",
   "metadata": {},
   "outputs": [],
   "source": [
    "new_test = test[[\"query\",\"passages\"]]"
   ]
  },
  {
   "cell_type": "code",
   "execution_count": 8,
   "id": "16ca4b19",
   "metadata": {},
   "outputs": [],
   "source": [
    "import random"
   ]
  },
  {
   "cell_type": "code",
   "execution_count": 9,
   "id": "020d4c0a",
   "metadata": {},
   "outputs": [],
   "source": [
    "def get_positive_examples(row):\n",
    "    pos_exs = list(row[\"passages\"].get(\"passage_text\"))\n",
    "    return pos_exs"
   ]
  },
  {
   "cell_type": "code",
   "execution_count": 12,
   "id": "bea9974d",
   "metadata": {},
   "outputs": [
    {
     "name": "stderr",
     "output_type": "stream",
     "text": [
      "/tmp/ipykernel_3087792/1355259439.py:1: SettingWithCopyWarning: \n",
      "A value is trying to be set on a copy of a slice from a DataFrame.\n",
      "Try using .loc[row_indexer,col_indexer] = value instead\n",
      "\n",
      "See the caveats in the documentation: https://pandas.pydata.org/pandas-docs/stable/user_guide/indexing.html#returning-a-view-versus-a-copy\n",
      "  new_train[\"pos_exs\"] = new_train.apply(get_positive_examples,axis=1)\n"
     ]
    }
   ],
   "source": [
    "new_train[\"pos_exs\"] = new_train.apply(get_positive_examples,axis=1)"
   ]
  },
  {
   "cell_type": "code",
   "execution_count": 13,
   "id": "19ca34b8",
   "metadata": {},
   "outputs": [
    {
     "data": {
      "text/html": [
       "<div>\n",
       "<style scoped>\n",
       "    .dataframe tbody tr th:only-of-type {\n",
       "        vertical-align: middle;\n",
       "    }\n",
       "\n",
       "    .dataframe tbody tr th {\n",
       "        vertical-align: top;\n",
       "    }\n",
       "\n",
       "    .dataframe thead th {\n",
       "        text-align: right;\n",
       "    }\n",
       "</style>\n",
       "<table border=\"1\" class=\"dataframe\">\n",
       "  <thead>\n",
       "    <tr style=\"text-align: right;\">\n",
       "      <th></th>\n",
       "      <th>query</th>\n",
       "      <th>passages</th>\n",
       "      <th>pos_exs</th>\n",
       "    </tr>\n",
       "  </thead>\n",
       "  <tbody>\n",
       "    <tr>\n",
       "      <th>0</th>\n",
       "      <td>what is rba</td>\n",
       "      <td>{'is_selected': [0, 0, 0, 0, 0, 1, 0, 0, 0, 0]...</td>\n",
       "      <td>[Since 2007, the RBA's outstanding reputation ...</td>\n",
       "    </tr>\n",
       "    <tr>\n",
       "      <th>1</th>\n",
       "      <td>was ronald reagan a democrat</td>\n",
       "      <td>{'is_selected': [0, 1, 0, 0, 0, 0, 0], 'passag...</td>\n",
       "      <td>[In his younger years, Ronald Reagan was a mem...</td>\n",
       "    </tr>\n",
       "    <tr>\n",
       "      <th>2</th>\n",
       "      <td>how long do you need for sydney and surroundin...</td>\n",
       "      <td>{'is_selected': [0, 0, 0, 0, 1, 0, 0, 0, 0, 0]...</td>\n",
       "      <td>[Sydney, New South Wales, Australia is located...</td>\n",
       "    </tr>\n",
       "    <tr>\n",
       "      <th>3</th>\n",
       "      <td>price to install tile in shower</td>\n",
       "      <td>{'is_selected': [0, 0, 0, 0, 0, 0, 0, 0, 1], '...</td>\n",
       "      <td>[In regards to tile installation costs, consum...</td>\n",
       "    </tr>\n",
       "    <tr>\n",
       "      <th>4</th>\n",
       "      <td>why conversion observed in body</td>\n",
       "      <td>{'is_selected': [0, 0, 1, 0, 0, 0, 0, 0], 'pas...</td>\n",
       "      <td>[Conclusions: In adult body CT, dose to an org...</td>\n",
       "    </tr>\n",
       "  </tbody>\n",
       "</table>\n",
       "</div>"
      ],
      "text/plain": [
       "                                               query  \\\n",
       "0                                        what is rba   \n",
       "1                       was ronald reagan a democrat   \n",
       "2  how long do you need for sydney and surroundin...   \n",
       "3                    price to install tile in shower   \n",
       "4                    why conversion observed in body   \n",
       "\n",
       "                                            passages  \\\n",
       "0  {'is_selected': [0, 0, 0, 0, 0, 1, 0, 0, 0, 0]...   \n",
       "1  {'is_selected': [0, 1, 0, 0, 0, 0, 0], 'passag...   \n",
       "2  {'is_selected': [0, 0, 0, 0, 1, 0, 0, 0, 0, 0]...   \n",
       "3  {'is_selected': [0, 0, 0, 0, 0, 0, 0, 0, 1], '...   \n",
       "4  {'is_selected': [0, 0, 1, 0, 0, 0, 0, 0], 'pas...   \n",
       "\n",
       "                                             pos_exs  \n",
       "0  [Since 2007, the RBA's outstanding reputation ...  \n",
       "1  [In his younger years, Ronald Reagan was a mem...  \n",
       "2  [Sydney, New South Wales, Australia is located...  \n",
       "3  [In regards to tile installation costs, consum...  \n",
       "4  [Conclusions: In adult body CT, dose to an org...  "
      ]
     },
     "execution_count": 13,
     "metadata": {},
     "output_type": "execute_result"
    }
   ],
   "source": [
    "new_train.head()"
   ]
  },
  {
   "cell_type": "code",
   "execution_count": 15,
   "id": "b2d954c6",
   "metadata": {},
   "outputs": [
    {
     "data": {
      "text/plain": [
       "10"
      ]
     },
     "execution_count": 15,
     "metadata": {},
     "output_type": "execute_result"
    }
   ],
   "source": [
    "len(new_train[\"pos_exs\"][0])"
   ]
  },
  {
   "cell_type": "code",
   "execution_count": 16,
   "id": "2c496833",
   "metadata": {},
   "outputs": [
    {
     "name": "stderr",
     "output_type": "stream",
     "text": [
      "/tmp/ipykernel_3087792/3152730291.py:1: SettingWithCopyWarning: \n",
      "A value is trying to be set on a copy of a slice from a DataFrame.\n",
      "Try using .loc[row_indexer,col_indexer] = value instead\n",
      "\n",
      "See the caveats in the documentation: https://pandas.pydata.org/pandas-docs/stable/user_guide/indexing.html#returning-a-view-versus-a-copy\n",
      "  new_val[\"pos_exs\"] = new_val.apply(get_positive_examples,axis=1)\n",
      "/tmp/ipykernel_3087792/3152730291.py:2: SettingWithCopyWarning: \n",
      "A value is trying to be set on a copy of a slice from a DataFrame.\n",
      "Try using .loc[row_indexer,col_indexer] = value instead\n",
      "\n",
      "See the caveats in the documentation: https://pandas.pydata.org/pandas-docs/stable/user_guide/indexing.html#returning-a-view-versus-a-copy\n",
      "  new_test[\"pos_exs\"] = new_test.apply(get_positive_examples,axis=1)\n"
     ]
    }
   ],
   "source": [
    "new_val[\"pos_exs\"] = new_val.apply(get_positive_examples,axis=1)\n",
    "new_test[\"pos_exs\"] = new_test.apply(get_positive_examples,axis=1)"
   ]
  },
  {
   "cell_type": "code",
   "execution_count": 17,
   "id": "a38dd7ff",
   "metadata": {},
   "outputs": [],
   "source": [
    "def get_neg_idx(row,len_df):\n",
    "    row.name\n",
    "    neg_idx = row.name\n",
    "    while neg_idx == row.name:\n",
    "        neg_idx = random.randint(0, len_df-1)\n",
    "    return neg_idx"
   ]
  },
  {
   "cell_type": "code",
   "execution_count": 18,
   "id": "c1eef942",
   "metadata": {},
   "outputs": [
    {
     "name": "stderr",
     "output_type": "stream",
     "text": [
      "/tmp/ipykernel_3087792/3577417797.py:1: SettingWithCopyWarning: \n",
      "A value is trying to be set on a copy of a slice from a DataFrame.\n",
      "Try using .loc[row_indexer,col_indexer] = value instead\n",
      "\n",
      "See the caveats in the documentation: https://pandas.pydata.org/pandas-docs/stable/user_guide/indexing.html#returning-a-view-versus-a-copy\n",
      "  new_train[\"neg_idx\"] = new_train.apply(get_neg_idx,len_df=len(new_train),axis=1)\n"
     ]
    }
   ],
   "source": [
    "new_train[\"neg_idx\"] = new_train.apply(get_neg_idx,len_df=len(new_train),axis=1)"
   ]
  },
  {
   "cell_type": "code",
   "execution_count": 19,
   "id": "04286351",
   "metadata": {},
   "outputs": [
    {
     "data": {
      "text/html": [
       "<div>\n",
       "<style scoped>\n",
       "    .dataframe tbody tr th:only-of-type {\n",
       "        vertical-align: middle;\n",
       "    }\n",
       "\n",
       "    .dataframe tbody tr th {\n",
       "        vertical-align: top;\n",
       "    }\n",
       "\n",
       "    .dataframe thead th {\n",
       "        text-align: right;\n",
       "    }\n",
       "</style>\n",
       "<table border=\"1\" class=\"dataframe\">\n",
       "  <thead>\n",
       "    <tr style=\"text-align: right;\">\n",
       "      <th></th>\n",
       "      <th>query</th>\n",
       "      <th>passages</th>\n",
       "      <th>pos_exs</th>\n",
       "      <th>neg_idx</th>\n",
       "    </tr>\n",
       "  </thead>\n",
       "  <tbody>\n",
       "    <tr>\n",
       "      <th>0</th>\n",
       "      <td>what is rba</td>\n",
       "      <td>{'is_selected': [0, 0, 0, 0, 0, 1, 0, 0, 0, 0]...</td>\n",
       "      <td>[Since 2007, the RBA's outstanding reputation ...</td>\n",
       "      <td>75027</td>\n",
       "    </tr>\n",
       "    <tr>\n",
       "      <th>1</th>\n",
       "      <td>was ronald reagan a democrat</td>\n",
       "      <td>{'is_selected': [0, 1, 0, 0, 0, 0, 0], 'passag...</td>\n",
       "      <td>[In his younger years, Ronald Reagan was a mem...</td>\n",
       "      <td>51548</td>\n",
       "    </tr>\n",
       "    <tr>\n",
       "      <th>2</th>\n",
       "      <td>how long do you need for sydney and surroundin...</td>\n",
       "      <td>{'is_selected': [0, 0, 0, 0, 1, 0, 0, 0, 0, 0]...</td>\n",
       "      <td>[Sydney, New South Wales, Australia is located...</td>\n",
       "      <td>38154</td>\n",
       "    </tr>\n",
       "    <tr>\n",
       "      <th>3</th>\n",
       "      <td>price to install tile in shower</td>\n",
       "      <td>{'is_selected': [0, 0, 0, 0, 0, 0, 0, 0, 1], '...</td>\n",
       "      <td>[In regards to tile installation costs, consum...</td>\n",
       "      <td>13656</td>\n",
       "    </tr>\n",
       "    <tr>\n",
       "      <th>4</th>\n",
       "      <td>why conversion observed in body</td>\n",
       "      <td>{'is_selected': [0, 0, 1, 0, 0, 0, 0, 0], 'pas...</td>\n",
       "      <td>[Conclusions: In adult body CT, dose to an org...</td>\n",
       "      <td>27091</td>\n",
       "    </tr>\n",
       "  </tbody>\n",
       "</table>\n",
       "</div>"
      ],
      "text/plain": [
       "                                               query  \\\n",
       "0                                        what is rba   \n",
       "1                       was ronald reagan a democrat   \n",
       "2  how long do you need for sydney and surroundin...   \n",
       "3                    price to install tile in shower   \n",
       "4                    why conversion observed in body   \n",
       "\n",
       "                                            passages  \\\n",
       "0  {'is_selected': [0, 0, 0, 0, 0, 1, 0, 0, 0, 0]...   \n",
       "1  {'is_selected': [0, 1, 0, 0, 0, 0, 0], 'passag...   \n",
       "2  {'is_selected': [0, 0, 0, 0, 1, 0, 0, 0, 0, 0]...   \n",
       "3  {'is_selected': [0, 0, 0, 0, 0, 0, 0, 0, 1], '...   \n",
       "4  {'is_selected': [0, 0, 1, 0, 0, 0, 0, 0], 'pas...   \n",
       "\n",
       "                                             pos_exs  neg_idx  \n",
       "0  [Since 2007, the RBA's outstanding reputation ...    75027  \n",
       "1  [In his younger years, Ronald Reagan was a mem...    51548  \n",
       "2  [Sydney, New South Wales, Australia is located...    38154  \n",
       "3  [In regards to tile installation costs, consum...    13656  \n",
       "4  [Conclusions: In adult body CT, dose to an org...    27091  "
      ]
     },
     "execution_count": 19,
     "metadata": {},
     "output_type": "execute_result"
    }
   ],
   "source": [
    "new_train.head()"
   ]
  },
  {
   "cell_type": "code",
   "execution_count": 20,
   "id": "31bee6de",
   "metadata": {},
   "outputs": [
    {
     "name": "stderr",
     "output_type": "stream",
     "text": [
      "/tmp/ipykernel_3087792/277527548.py:1: SettingWithCopyWarning: \n",
      "A value is trying to be set on a copy of a slice from a DataFrame.\n",
      "Try using .loc[row_indexer,col_indexer] = value instead\n",
      "\n",
      "See the caveats in the documentation: https://pandas.pydata.org/pandas-docs/stable/user_guide/indexing.html#returning-a-view-versus-a-copy\n",
      "  new_val[\"neg_idx\"] = new_val.apply(get_neg_idx,len_df=len(new_val),axis=1)\n",
      "/tmp/ipykernel_3087792/277527548.py:2: SettingWithCopyWarning: \n",
      "A value is trying to be set on a copy of a slice from a DataFrame.\n",
      "Try using .loc[row_indexer,col_indexer] = value instead\n",
      "\n",
      "See the caveats in the documentation: https://pandas.pydata.org/pandas-docs/stable/user_guide/indexing.html#returning-a-view-versus-a-copy\n",
      "  new_test[\"neg_idx\"] = new_test.apply(get_neg_idx,len_df=len(new_test),axis=1)\n"
     ]
    }
   ],
   "source": [
    "new_val[\"neg_idx\"] = new_val.apply(get_neg_idx,len_df=len(new_val),axis=1)\n",
    "new_test[\"neg_idx\"] = new_test.apply(get_neg_idx,len_df=len(new_test),axis=1)"
   ]
  },
  {
   "cell_type": "code",
   "execution_count": 21,
   "id": "1a82910d",
   "metadata": {},
   "outputs": [],
   "source": [
    "def get_neg_exs(row,df):\n",
    "    neg_idx = row.neg_idx\n",
    "    neg_exs = list(df[\"passages\"][neg_idx][\"passage_text\"])\n",
    "    return neg_exs"
   ]
  },
  {
   "cell_type": "code",
   "execution_count": 22,
   "id": "f5b99710",
   "metadata": {},
   "outputs": [
    {
     "name": "stderr",
     "output_type": "stream",
     "text": [
      "/tmp/ipykernel_3087792/1645880820.py:1: SettingWithCopyWarning: \n",
      "A value is trying to be set on a copy of a slice from a DataFrame.\n",
      "Try using .loc[row_indexer,col_indexer] = value instead\n",
      "\n",
      "See the caveats in the documentation: https://pandas.pydata.org/pandas-docs/stable/user_guide/indexing.html#returning-a-view-versus-a-copy\n",
      "  new_train[\"neg_exs\"] = new_train.apply(get_neg_exs,df=new_train,axis=1)\n"
     ]
    }
   ],
   "source": [
    "new_train[\"neg_exs\"] = new_train.apply(get_neg_exs,df=new_train,axis=1)"
   ]
  },
  {
   "cell_type": "code",
   "execution_count": 23,
   "id": "bfce51e4",
   "metadata": {},
   "outputs": [
    {
     "data": {
      "text/html": [
       "<div>\n",
       "<style scoped>\n",
       "    .dataframe tbody tr th:only-of-type {\n",
       "        vertical-align: middle;\n",
       "    }\n",
       "\n",
       "    .dataframe tbody tr th {\n",
       "        vertical-align: top;\n",
       "    }\n",
       "\n",
       "    .dataframe thead th {\n",
       "        text-align: right;\n",
       "    }\n",
       "</style>\n",
       "<table border=\"1\" class=\"dataframe\">\n",
       "  <thead>\n",
       "    <tr style=\"text-align: right;\">\n",
       "      <th></th>\n",
       "      <th>query</th>\n",
       "      <th>passages</th>\n",
       "      <th>pos_exs</th>\n",
       "      <th>neg_idx</th>\n",
       "      <th>neg_exs</th>\n",
       "    </tr>\n",
       "  </thead>\n",
       "  <tbody>\n",
       "    <tr>\n",
       "      <th>0</th>\n",
       "      <td>what is rba</td>\n",
       "      <td>{'is_selected': [0, 0, 0, 0, 0, 1, 0, 0, 0, 0]...</td>\n",
       "      <td>[Since 2007, the RBA's outstanding reputation ...</td>\n",
       "      <td>75027</td>\n",
       "      <td>[1 Having a roofing contractor remove (and dis...</td>\n",
       "    </tr>\n",
       "    <tr>\n",
       "      <th>1</th>\n",
       "      <td>was ronald reagan a democrat</td>\n",
       "      <td>{'is_selected': [0, 1, 0, 0, 0, 0, 0], 'passag...</td>\n",
       "      <td>[In his younger years, Ronald Reagan was a mem...</td>\n",
       "      <td>51548</td>\n",
       "      <td>[A committee (or commission) is a type of smal...</td>\n",
       "    </tr>\n",
       "    <tr>\n",
       "      <th>2</th>\n",
       "      <td>how long do you need for sydney and surroundin...</td>\n",
       "      <td>{'is_selected': [0, 0, 0, 0, 1, 0, 0, 0, 0, 0]...</td>\n",
       "      <td>[Sydney, New South Wales, Australia is located...</td>\n",
       "      <td>38154</td>\n",
       "      <td>[Robert Louis Fosse was born in Chicago, Illin...</td>\n",
       "    </tr>\n",
       "    <tr>\n",
       "      <th>3</th>\n",
       "      <td>price to install tile in shower</td>\n",
       "      <td>{'is_selected': [0, 0, 0, 0, 0, 0, 0, 0, 1], '...</td>\n",
       "      <td>[In regards to tile installation costs, consum...</td>\n",
       "      <td>13656</td>\n",
       "      <td>[This cultural blend is seen in Paraguay's for...</td>\n",
       "    </tr>\n",
       "    <tr>\n",
       "      <th>4</th>\n",
       "      <td>why conversion observed in body</td>\n",
       "      <td>{'is_selected': [0, 0, 1, 0, 0, 0, 0, 0], 'pas...</td>\n",
       "      <td>[Conclusions: In adult body CT, dose to an org...</td>\n",
       "      <td>27091</td>\n",
       "      <td>[Elephant ivory is the most important source, ...</td>\n",
       "    </tr>\n",
       "  </tbody>\n",
       "</table>\n",
       "</div>"
      ],
      "text/plain": [
       "                                               query  \\\n",
       "0                                        what is rba   \n",
       "1                       was ronald reagan a democrat   \n",
       "2  how long do you need for sydney and surroundin...   \n",
       "3                    price to install tile in shower   \n",
       "4                    why conversion observed in body   \n",
       "\n",
       "                                            passages  \\\n",
       "0  {'is_selected': [0, 0, 0, 0, 0, 1, 0, 0, 0, 0]...   \n",
       "1  {'is_selected': [0, 1, 0, 0, 0, 0, 0], 'passag...   \n",
       "2  {'is_selected': [0, 0, 0, 0, 1, 0, 0, 0, 0, 0]...   \n",
       "3  {'is_selected': [0, 0, 0, 0, 0, 0, 0, 0, 1], '...   \n",
       "4  {'is_selected': [0, 0, 1, 0, 0, 0, 0, 0], 'pas...   \n",
       "\n",
       "                                             pos_exs  neg_idx  \\\n",
       "0  [Since 2007, the RBA's outstanding reputation ...    75027   \n",
       "1  [In his younger years, Ronald Reagan was a mem...    51548   \n",
       "2  [Sydney, New South Wales, Australia is located...    38154   \n",
       "3  [In regards to tile installation costs, consum...    13656   \n",
       "4  [Conclusions: In adult body CT, dose to an org...    27091   \n",
       "\n",
       "                                             neg_exs  \n",
       "0  [1 Having a roofing contractor remove (and dis...  \n",
       "1  [A committee (or commission) is a type of smal...  \n",
       "2  [Robert Louis Fosse was born in Chicago, Illin...  \n",
       "3  [This cultural blend is seen in Paraguay's for...  \n",
       "4  [Elephant ivory is the most important source, ...  "
      ]
     },
     "execution_count": 23,
     "metadata": {},
     "output_type": "execute_result"
    }
   ],
   "source": [
    "new_train.head()"
   ]
  },
  {
   "cell_type": "code",
   "execution_count": 26,
   "id": "a4ad9706",
   "metadata": {},
   "outputs": [
    {
     "name": "stderr",
     "output_type": "stream",
     "text": [
      "/tmp/ipykernel_3087792/4014232044.py:1: SettingWithCopyWarning: \n",
      "A value is trying to be set on a copy of a slice from a DataFrame.\n",
      "Try using .loc[row_indexer,col_indexer] = value instead\n",
      "\n",
      "See the caveats in the documentation: https://pandas.pydata.org/pandas-docs/stable/user_guide/indexing.html#returning-a-view-versus-a-copy\n",
      "  new_val[\"neg_exs\"] = new_val.apply(get_neg_exs,df=new_val,axis=1)\n",
      "/tmp/ipykernel_3087792/4014232044.py:2: SettingWithCopyWarning: \n",
      "A value is trying to be set on a copy of a slice from a DataFrame.\n",
      "Try using .loc[row_indexer,col_indexer] = value instead\n",
      "\n",
      "See the caveats in the documentation: https://pandas.pydata.org/pandas-docs/stable/user_guide/indexing.html#returning-a-view-versus-a-copy\n",
      "  new_test[\"neg_exs\"] = new_test.apply(get_neg_exs,df=new_test,axis=1)\n"
     ]
    }
   ],
   "source": [
    "new_val[\"neg_exs\"] = new_val.apply(get_neg_exs,df=new_val,axis=1)\n",
    "new_test[\"neg_exs\"] = new_test.apply(get_neg_exs,df=new_test,axis=1)"
   ]
  },
  {
   "cell_type": "code",
   "execution_count": 27,
   "id": "96e48df3",
   "metadata": {},
   "outputs": [],
   "source": [
    "new_train[\"examples\"]=new_train[\"pos_exs\"]+new_train[\"neg_exs\"]\n",
    "new_val[\"examples\"]=new_val[\"pos_exs\"]+new_val[\"neg_exs\"]\n",
    "new_test[\"examples\"]=new_test[\"pos_exs\"]+new_test[\"neg_exs\"]"
   ]
  },
  {
   "cell_type": "code",
   "execution_count": 28,
   "id": "94494c27",
   "metadata": {},
   "outputs": [
    {
     "data": {
      "text/plain": [
       "0        [Since 2007, the RBA's outstanding reputation ...\n",
       "1        [In his younger years, Ronald Reagan was a mem...\n",
       "2        [Sydney, New South Wales, Australia is located...\n",
       "3        [In regards to tile installation costs, consum...\n",
       "4        [Conclusions: In adult body CT, dose to an org...\n",
       "                               ...                        \n",
       "82321    [definition of propagation the act or action o...\n",
       "82322    [The Path to Becoming a Psychologist. First, y...\n",
       "82323    [If you need a wine to pair with oysters or mu...\n",
       "82324    [Your doctor will want to take regular blood t...\n",
       "82325    [Polarity Index. Burdick & Jackson solvents ar...\n",
       "Name: examples, Length: 82326, dtype: object"
      ]
     },
     "execution_count": 28,
     "metadata": {},
     "output_type": "execute_result"
    }
   ],
   "source": [
    "new_train[\"examples\"]"
   ]
  },
  {
   "cell_type": "code",
   "execution_count": 29,
   "id": "ec6821af",
   "metadata": {},
   "outputs": [
    {
     "data": {
      "text/plain": [
       "[\"Since 2007, the RBA's outstanding reputation has been affected by the 'Securency' or NPA scandal. These RBA subsidiaries were involved in bribing overseas officials so that Australia might win lucrative note-printing contracts. The assets of the bank include the gold and foreign exchange reserves of Australia, which is estimated to have a net worth of A$101 billion. Nearly 94% of the RBA's employees work at its headquarters in Sydney, New South Wales and at the Business Resumption Site.\",\n",
       " \"The Reserve Bank of Australia (RBA) came into being on 14 January 1960 as Australia 's central bank and banknote issuing authority, when the Reserve Bank Act 1959 removed the central banking functions from the Commonwealth Bank. The assets of the bank include the gold and foreign exchange reserves of Australia, which is estimated to have a net worth of A$101 billion. Nearly 94% of the RBA's employees work at its headquarters in Sydney, New South Wales and at the Business Resumption Site.\",\n",
       " 'RBA Recognized with the 2014 Microsoft US Regional Partner of the ... by PR Newswire. Contract Awarded for supply and support the. Securitisations System used for risk management and analysis. ',\n",
       " 'The inner workings of a rebuildable atomizer are surprisingly simple. The coil inside the RBA is made of some type of resistance wire, normally Kanthal or nichrome. When a current is applied to the coil (resistance wire), it heats up and the heated coil then vaporizes the eliquid. 1 The bottom feed RBA is, perhaps, the easiest of all RBA types to build, maintain, and use. 2  It is filled from below, much like bottom coil clearomizer. 3  Bottom feed RBAs can utilize cotton instead of silica for the wick. 4  The Genesis, or genny, is a top feed RBA that utilizes a short woven mesh wire.',\n",
       " 'Results-Based Accountability® (also known as RBA) is a disciplined way of thinking and taking action that communities can use to improve the lives of children, youth, families, adults and the community as a whole. RBA is also used by organizations to improve the performance of their programs. RBA improves the lives of children, families, and communities and the performance of programs because RBA: 1  Gets from talk to action quickly; 2  Is a simple, common sense process that everyone can understand; 3  Helps groups to surface and challenge assumptions that can be barriers to innovation;',\n",
       " 'Results-Based Accountability® (also known as RBA) is a disciplined way of thinking and taking action that communities can use to improve the lives of children, youth, families, adults and the community as a whole. RBA is also used by organizations to improve the performance of their programs. Creating Community Impact with RBA. Community impact focuses on conditions of well-being for children, families and the community as a whole that a group of leaders is working collectively to improve. For example: “Residents with good jobs,” “Children ready for school,” or “A safe and clean neighborhood”.',\n",
       " 'RBA uses a data-driven, decision-making process to help communities and organizations get beyond talking about problems to taking action to solve problems. It is a simple, common sense framework that everyone can understand. RBA starts with ends and works backward, towards means. The “end” or difference you are trying to make looks slightly different if you are working on a broad community level or are focusing on your specific program or organization. RBA improves the lives of children, families, and communities and the performance of programs because RBA: 1  Gets from talk to action quickly; 2  Is a simple, common sense process that everyone can understand; 3  Helps groups to surface and challenge assumptions that can be barriers to innovation;',\n",
       " 'vs. NetIQ Identity Manager. Risk-based authentication (RBA) is a method of applying varying levels of stringency to authentication processes based on the likelihood that access to a given system could result in its being compromised. Risk-based authentication can be categorized as either user-dependent or transaction-dependent. User-dependent RBA processes employ the same authentication for every session initiated by a given user; the exact credentials that the site demands depend on who the user is.',\n",
       " 'A rebuildable atomizer (RBA), often referred to as simply a “rebuildable,” is just a special type of atomizer used in the Vape Pen and Mod Industry that connects to a personal vaporizer. 1 The bottom feed RBA is, perhaps, the easiest of all RBA types to build, maintain, and use. 2  It is filled from below, much like bottom coil clearomizer. 3  Bottom feed RBAs can utilize cotton instead of silica for the wick. 4  The Genesis, or genny, is a top feed RBA that utilizes a short woven mesh wire.',\n",
       " 'Get To Know Us. RBA is a digital and technology consultancy with roots in strategy, design and technology. Our team of specialists help progressive companies deliver modern digital experiences backed by proven technology engineering. ',\n",
       " '1 Having a roofing contractor remove (and dispose of) old roofing materials, then install asphalt shingles runs about $1-$4 a square foot, or a total of $1,700-$8,400 for a typical ranch-style home (1,700-2,100 square foot, gently sloping roof).',\n",
       " '1 Do-it-yourself materials to install an asphalt shingle roof on an average one-story ranch-style home (with a gently sloping roof of 1,700-2,100 square feet) can run $680-$3,700, depending on the quality of the materials.',\n",
       " 'Total contractor’s cost: $4,186 to install a typical 15 squares ranch house roof, or $279 / square, before ANY profit. If we consider that a roofer makes an average 25% NET profit on each job, before taxes, then our hypothetical roof above would yield $1,046 in profit.',\n",
       " 'Underlayment and accessories cost another $40-50 / square. Dump fees can range from $30-100 per ton (2000 lbs.) depending on where you live. 1 square of 1 layer of shingles weighs ~ 250 lbs., or 8 squares per ton. a 15 sq. roof is about 2 tons for one layer to be removed.',\n",
       " '1 Installing a concrete tile roof can run $7,650-$21,000 for a basic roof on a ranch-style home. 2  Roofing the same surface with ceramic clay tiles can be $11,900-$2,100 for standard shapes and colors in lower-grade tile, and $17,000-$60,000 for more custom shapes and colors, or complex installations.',\n",
       " '1 Cost: A DIY asphalt roof installation on a standard ranch-style house costs from $680 to $3,700, depending on the size of the roof and the quality of the materials. 2  Professional installation can cost between $1,700 and $8,400. 3  Wood Shake -- This is a gorgeous but high-maintenance option.',\n",
       " \"HomeAdvisor's Cost Guide says the average national price of a roof installation for most Americans ranges from $5,913 to $7,853. At the high end, people pay as much as $12,000; at the low end, they may pay as little as $3,000.\",\n",
       " '1 A metal roof is lightweight, durable, fire-resistant and does not rot. 2  A professionally installed steel roof can be $5,100-$22,000 for steel roofing on a simple one-story ranch-style house; aluminum runs $11,900-$24,200 for the same roof; and copper jumps to $25,500-$39,600.',\n",
       " '1 Cost: A 2,000 square foot home will cost from $17,000 to $84,000 to roof in slate. 2  If 3,000 square feet or more, cost can range from $27,000 to $120,000, depending on the site location and the complexity of the job.']"
      ]
     },
     "execution_count": 29,
     "metadata": {},
     "output_type": "execute_result"
    }
   ],
   "source": [
    "new_train[\"examples\"][0]"
   ]
  },
  {
   "cell_type": "code",
   "execution_count": 31,
   "id": "c85017c6",
   "metadata": {},
   "outputs": [],
   "source": [
    "def get_labels(row):\n",
    "    return [1]*len(row.pos_exs)+[0]*len(row[\"neg_exs\"])"
   ]
  },
  {
   "cell_type": "code",
   "execution_count": 32,
   "id": "19ab14b4",
   "metadata": {},
   "outputs": [],
   "source": [
    "new_train[\"labels\"] = new_train.apply(get_labels,axis=1)"
   ]
  },
  {
   "cell_type": "code",
   "execution_count": 33,
   "id": "f80f0ed5",
   "metadata": {},
   "outputs": [
    {
     "data": {
      "text/html": [
       "<div>\n",
       "<style scoped>\n",
       "    .dataframe tbody tr th:only-of-type {\n",
       "        vertical-align: middle;\n",
       "    }\n",
       "\n",
       "    .dataframe tbody tr th {\n",
       "        vertical-align: top;\n",
       "    }\n",
       "\n",
       "    .dataframe thead th {\n",
       "        text-align: right;\n",
       "    }\n",
       "</style>\n",
       "<table border=\"1\" class=\"dataframe\">\n",
       "  <thead>\n",
       "    <tr style=\"text-align: right;\">\n",
       "      <th></th>\n",
       "      <th>query</th>\n",
       "      <th>passages</th>\n",
       "      <th>pos_exs</th>\n",
       "      <th>neg_idx</th>\n",
       "      <th>neg_exs</th>\n",
       "      <th>examples</th>\n",
       "      <th>labels</th>\n",
       "    </tr>\n",
       "  </thead>\n",
       "  <tbody>\n",
       "    <tr>\n",
       "      <th>0</th>\n",
       "      <td>what is rba</td>\n",
       "      <td>{'is_selected': [0, 0, 0, 0, 0, 1, 0, 0, 0, 0]...</td>\n",
       "      <td>[Since 2007, the RBA's outstanding reputation ...</td>\n",
       "      <td>75027</td>\n",
       "      <td>[1 Having a roofing contractor remove (and dis...</td>\n",
       "      <td>[Since 2007, the RBA's outstanding reputation ...</td>\n",
       "      <td>[1, 1, 1, 1, 1, 1, 1, 1, 1, 1, 0, 0, 0, 0, 0, ...</td>\n",
       "    </tr>\n",
       "    <tr>\n",
       "      <th>1</th>\n",
       "      <td>was ronald reagan a democrat</td>\n",
       "      <td>{'is_selected': [0, 1, 0, 0, 0, 0, 0], 'passag...</td>\n",
       "      <td>[In his younger years, Ronald Reagan was a mem...</td>\n",
       "      <td>51548</td>\n",
       "      <td>[A committee (or commission) is a type of smal...</td>\n",
       "      <td>[In his younger years, Ronald Reagan was a mem...</td>\n",
       "      <td>[1, 1, 1, 1, 1, 1, 1, 0, 0, 0, 0, 0, 0, 0, 0, 0]</td>\n",
       "    </tr>\n",
       "    <tr>\n",
       "      <th>2</th>\n",
       "      <td>how long do you need for sydney and surroundin...</td>\n",
       "      <td>{'is_selected': [0, 0, 0, 0, 1, 0, 0, 0, 0, 0]...</td>\n",
       "      <td>[Sydney, New South Wales, Australia is located...</td>\n",
       "      <td>38154</td>\n",
       "      <td>[Robert Louis Fosse was born in Chicago, Illin...</td>\n",
       "      <td>[Sydney, New South Wales, Australia is located...</td>\n",
       "      <td>[1, 1, 1, 1, 1, 1, 1, 1, 1, 1, 0, 0, 0, 0]</td>\n",
       "    </tr>\n",
       "    <tr>\n",
       "      <th>3</th>\n",
       "      <td>price to install tile in shower</td>\n",
       "      <td>{'is_selected': [0, 0, 0, 0, 0, 0, 0, 0, 1], '...</td>\n",
       "      <td>[In regards to tile installation costs, consum...</td>\n",
       "      <td>13656</td>\n",
       "      <td>[This cultural blend is seen in Paraguay's for...</td>\n",
       "      <td>[In regards to tile installation costs, consum...</td>\n",
       "      <td>[1, 1, 1, 1, 1, 1, 1, 1, 1, 0, 0, 0, 0, 0, 0, 0]</td>\n",
       "    </tr>\n",
       "    <tr>\n",
       "      <th>4</th>\n",
       "      <td>why conversion observed in body</td>\n",
       "      <td>{'is_selected': [0, 0, 1, 0, 0, 0, 0, 0], 'pas...</td>\n",
       "      <td>[Conclusions: In adult body CT, dose to an org...</td>\n",
       "      <td>27091</td>\n",
       "      <td>[Elephant ivory is the most important source, ...</td>\n",
       "      <td>[Conclusions: In adult body CT, dose to an org...</td>\n",
       "      <td>[1, 1, 1, 1, 1, 1, 1, 1, 0, 0, 0, 0, 0, 0, 0, ...</td>\n",
       "    </tr>\n",
       "  </tbody>\n",
       "</table>\n",
       "</div>"
      ],
      "text/plain": [
       "                                               query  \\\n",
       "0                                        what is rba   \n",
       "1                       was ronald reagan a democrat   \n",
       "2  how long do you need for sydney and surroundin...   \n",
       "3                    price to install tile in shower   \n",
       "4                    why conversion observed in body   \n",
       "\n",
       "                                            passages  \\\n",
       "0  {'is_selected': [0, 0, 0, 0, 0, 1, 0, 0, 0, 0]...   \n",
       "1  {'is_selected': [0, 1, 0, 0, 0, 0, 0], 'passag...   \n",
       "2  {'is_selected': [0, 0, 0, 0, 1, 0, 0, 0, 0, 0]...   \n",
       "3  {'is_selected': [0, 0, 0, 0, 0, 0, 0, 0, 1], '...   \n",
       "4  {'is_selected': [0, 0, 1, 0, 0, 0, 0, 0], 'pas...   \n",
       "\n",
       "                                             pos_exs  neg_idx  \\\n",
       "0  [Since 2007, the RBA's outstanding reputation ...    75027   \n",
       "1  [In his younger years, Ronald Reagan was a mem...    51548   \n",
       "2  [Sydney, New South Wales, Australia is located...    38154   \n",
       "3  [In regards to tile installation costs, consum...    13656   \n",
       "4  [Conclusions: In adult body CT, dose to an org...    27091   \n",
       "\n",
       "                                             neg_exs  \\\n",
       "0  [1 Having a roofing contractor remove (and dis...   \n",
       "1  [A committee (or commission) is a type of smal...   \n",
       "2  [Robert Louis Fosse was born in Chicago, Illin...   \n",
       "3  [This cultural blend is seen in Paraguay's for...   \n",
       "4  [Elephant ivory is the most important source, ...   \n",
       "\n",
       "                                            examples  \\\n",
       "0  [Since 2007, the RBA's outstanding reputation ...   \n",
       "1  [In his younger years, Ronald Reagan was a mem...   \n",
       "2  [Sydney, New South Wales, Australia is located...   \n",
       "3  [In regards to tile installation costs, consum...   \n",
       "4  [Conclusions: In adult body CT, dose to an org...   \n",
       "\n",
       "                                              labels  \n",
       "0  [1, 1, 1, 1, 1, 1, 1, 1, 1, 1, 0, 0, 0, 0, 0, ...  \n",
       "1   [1, 1, 1, 1, 1, 1, 1, 0, 0, 0, 0, 0, 0, 0, 0, 0]  \n",
       "2         [1, 1, 1, 1, 1, 1, 1, 1, 1, 1, 0, 0, 0, 0]  \n",
       "3   [1, 1, 1, 1, 1, 1, 1, 1, 1, 0, 0, 0, 0, 0, 0, 0]  \n",
       "4  [1, 1, 1, 1, 1, 1, 1, 1, 0, 0, 0, 0, 0, 0, 0, ...  "
      ]
     },
     "execution_count": 33,
     "metadata": {},
     "output_type": "execute_result"
    }
   ],
   "source": [
    "new_train.head()"
   ]
  },
  {
   "cell_type": "code",
   "execution_count": 34,
   "id": "1e8c69e4",
   "metadata": {},
   "outputs": [],
   "source": [
    "new_val[\"labels\"] = new_val.apply(get_labels,axis=1)\n",
    "new_test[\"labels\"] = new_test.apply(get_labels,axis=1)"
   ]
  },
  {
   "cell_type": "code",
   "execution_count": 55,
   "id": "a0a3761c",
   "metadata": {},
   "outputs": [],
   "source": [
    "exploded_new_train = new_train.explode(['examples', 'labels']).reset_index(drop=True)"
   ]
  },
  {
   "cell_type": "code",
   "execution_count": 56,
   "id": "354dba42",
   "metadata": {},
   "outputs": [
    {
     "data": {
      "text/html": [
       "<div>\n",
       "<style scoped>\n",
       "    .dataframe tbody tr th:only-of-type {\n",
       "        vertical-align: middle;\n",
       "    }\n",
       "\n",
       "    .dataframe tbody tr th {\n",
       "        vertical-align: top;\n",
       "    }\n",
       "\n",
       "    .dataframe thead th {\n",
       "        text-align: right;\n",
       "    }\n",
       "</style>\n",
       "<table border=\"1\" class=\"dataframe\">\n",
       "  <thead>\n",
       "    <tr style=\"text-align: right;\">\n",
       "      <th></th>\n",
       "      <th>query</th>\n",
       "      <th>passages</th>\n",
       "      <th>pos_exs</th>\n",
       "      <th>neg_idx</th>\n",
       "      <th>neg_exs</th>\n",
       "      <th>examples</th>\n",
       "      <th>labels</th>\n",
       "    </tr>\n",
       "  </thead>\n",
       "  <tbody>\n",
       "    <tr>\n",
       "      <th>0</th>\n",
       "      <td>what is rba</td>\n",
       "      <td>{'is_selected': [0, 0, 0, 0, 0, 1, 0, 0, 0, 0]...</td>\n",
       "      <td>[Since 2007, the RBA's outstanding reputation ...</td>\n",
       "      <td>75027</td>\n",
       "      <td>[1 Having a roofing contractor remove (and dis...</td>\n",
       "      <td>Since 2007, the RBA's outstanding reputation h...</td>\n",
       "      <td>1</td>\n",
       "    </tr>\n",
       "    <tr>\n",
       "      <th>1</th>\n",
       "      <td>what is rba</td>\n",
       "      <td>{'is_selected': [0, 0, 0, 0, 0, 1, 0, 0, 0, 0]...</td>\n",
       "      <td>[Since 2007, the RBA's outstanding reputation ...</td>\n",
       "      <td>75027</td>\n",
       "      <td>[1 Having a roofing contractor remove (and dis...</td>\n",
       "      <td>The Reserve Bank of Australia (RBA) came into ...</td>\n",
       "      <td>1</td>\n",
       "    </tr>\n",
       "    <tr>\n",
       "      <th>2</th>\n",
       "      <td>what is rba</td>\n",
       "      <td>{'is_selected': [0, 0, 0, 0, 0, 1, 0, 0, 0, 0]...</td>\n",
       "      <td>[Since 2007, the RBA's outstanding reputation ...</td>\n",
       "      <td>75027</td>\n",
       "      <td>[1 Having a roofing contractor remove (and dis...</td>\n",
       "      <td>RBA Recognized with the 2014 Microsoft US Regi...</td>\n",
       "      <td>1</td>\n",
       "    </tr>\n",
       "    <tr>\n",
       "      <th>3</th>\n",
       "      <td>what is rba</td>\n",
       "      <td>{'is_selected': [0, 0, 0, 0, 0, 1, 0, 0, 0, 0]...</td>\n",
       "      <td>[Since 2007, the RBA's outstanding reputation ...</td>\n",
       "      <td>75027</td>\n",
       "      <td>[1 Having a roofing contractor remove (and dis...</td>\n",
       "      <td>The inner workings of a rebuildable atomizer a...</td>\n",
       "      <td>1</td>\n",
       "    </tr>\n",
       "    <tr>\n",
       "      <th>4</th>\n",
       "      <td>what is rba</td>\n",
       "      <td>{'is_selected': [0, 0, 0, 0, 0, 1, 0, 0, 0, 0]...</td>\n",
       "      <td>[Since 2007, the RBA's outstanding reputation ...</td>\n",
       "      <td>75027</td>\n",
       "      <td>[1 Having a roofing contractor remove (and dis...</td>\n",
       "      <td>Results-Based Accountability® (also known as R...</td>\n",
       "      <td>1</td>\n",
       "    </tr>\n",
       "  </tbody>\n",
       "</table>\n",
       "</div>"
      ],
      "text/plain": [
       "         query                                           passages  \\\n",
       "0  what is rba  {'is_selected': [0, 0, 0, 0, 0, 1, 0, 0, 0, 0]...   \n",
       "1  what is rba  {'is_selected': [0, 0, 0, 0, 0, 1, 0, 0, 0, 0]...   \n",
       "2  what is rba  {'is_selected': [0, 0, 0, 0, 0, 1, 0, 0, 0, 0]...   \n",
       "3  what is rba  {'is_selected': [0, 0, 0, 0, 0, 1, 0, 0, 0, 0]...   \n",
       "4  what is rba  {'is_selected': [0, 0, 0, 0, 0, 1, 0, 0, 0, 0]...   \n",
       "\n",
       "                                             pos_exs  neg_idx  \\\n",
       "0  [Since 2007, the RBA's outstanding reputation ...    75027   \n",
       "1  [Since 2007, the RBA's outstanding reputation ...    75027   \n",
       "2  [Since 2007, the RBA's outstanding reputation ...    75027   \n",
       "3  [Since 2007, the RBA's outstanding reputation ...    75027   \n",
       "4  [Since 2007, the RBA's outstanding reputation ...    75027   \n",
       "\n",
       "                                             neg_exs  \\\n",
       "0  [1 Having a roofing contractor remove (and dis...   \n",
       "1  [1 Having a roofing contractor remove (and dis...   \n",
       "2  [1 Having a roofing contractor remove (and dis...   \n",
       "3  [1 Having a roofing contractor remove (and dis...   \n",
       "4  [1 Having a roofing contractor remove (and dis...   \n",
       "\n",
       "                                            examples labels  \n",
       "0  Since 2007, the RBA's outstanding reputation h...      1  \n",
       "1  The Reserve Bank of Australia (RBA) came into ...      1  \n",
       "2  RBA Recognized with the 2014 Microsoft US Regi...      1  \n",
       "3  The inner workings of a rebuildable atomizer a...      1  \n",
       "4  Results-Based Accountability® (also known as R...      1  "
      ]
     },
     "execution_count": 56,
     "metadata": {},
     "output_type": "execute_result"
    }
   ],
   "source": [
    "exploded_new_train.head()"
   ]
  },
  {
   "cell_type": "code",
   "execution_count": 58,
   "id": "9a02a925",
   "metadata": {},
   "outputs": [
    {
     "data": {
      "text/plain": [
       "list"
      ]
     },
     "execution_count": 58,
     "metadata": {},
     "output_type": "execute_result"
    }
   ],
   "source": [
    "type(new_train[\"pos_exs\"][0])"
   ]
  },
  {
   "cell_type": "code",
   "execution_count": 59,
   "id": "c3e84db1",
   "metadata": {},
   "outputs": [],
   "source": [
    "exploded_new_val = new_val.explode(['examples', 'labels']).reset_index(drop=True)\n",
    "exploded_new_test = new_test.explode(['examples', 'labels']).reset_index(drop=True)"
   ]
  },
  {
   "cell_type": "code",
   "execution_count": 63,
   "id": "c38f8725",
   "metadata": {},
   "outputs": [],
   "source": [
    "from sklearn.model_selection import train_test_split"
   ]
  },
  {
   "cell_type": "code",
   "execution_count": 68,
   "id": "c5bd37da",
   "metadata": {},
   "outputs": [
    {
     "ename": "SyntaxError",
     "evalue": "cannot assign to function call here. Maybe you meant '==' instead of '='? (2130399014.py, line 1)",
     "output_type": "error",
     "traceback": [
      "\u001b[0;36m  Cell \u001b[0;32mIn[68], line 1\u001b[0;36m\u001b[0m\n\u001b[0;31m    train_ds.reset_index(drop=True), test_ds.reset_index(drop=True) = train_test_split(exploded_new_val, test_size=0.2, random_state=1)\u001b[0m\n\u001b[0m                                     ^\u001b[0m\n\u001b[0;31mSyntaxError\u001b[0m\u001b[0;31m:\u001b[0m cannot assign to function call here. Maybe you meant '==' instead of '='?\n"
     ]
    }
   ],
   "source": [
    "train_ds, test_ds = train_test_split(exploded_new_val, test_size=0.2, random_state=1)\n",
    "\n",
    "train_ds, val_ds,  = train_test_split(train_ds, test_size=0.25, random_state=1) # 0.25 x 0.8 = 0.2"
   ]
  },
  {
   "cell_type": "code",
   "execution_count": 72,
   "id": "e3521a9d",
   "metadata": {},
   "outputs": [],
   "source": [
    "train_ds = train_ds.reset_index(drop=True)\n",
    "val_ds = val_ds.reset_index(drop=True)\n",
    "test_ds = test_ds.reset_index(drop=True)"
   ]
  },
  {
   "cell_type": "code",
   "execution_count": 73,
   "id": "ca4f376b",
   "metadata": {},
   "outputs": [
    {
     "data": {
      "text/html": [
       "<div>\n",
       "<style scoped>\n",
       "    .dataframe tbody tr th:only-of-type {\n",
       "        vertical-align: middle;\n",
       "    }\n",
       "\n",
       "    .dataframe tbody tr th {\n",
       "        vertical-align: top;\n",
       "    }\n",
       "\n",
       "    .dataframe thead th {\n",
       "        text-align: right;\n",
       "    }\n",
       "</style>\n",
       "<table border=\"1\" class=\"dataframe\">\n",
       "  <thead>\n",
       "    <tr style=\"text-align: right;\">\n",
       "      <th></th>\n",
       "      <th>query</th>\n",
       "      <th>passages</th>\n",
       "      <th>pos_exs</th>\n",
       "      <th>neg_idx</th>\n",
       "      <th>neg_exs</th>\n",
       "      <th>examples</th>\n",
       "      <th>labels</th>\n",
       "    </tr>\n",
       "  </thead>\n",
       "  <tbody>\n",
       "    <tr>\n",
       "      <th>0</th>\n",
       "      <td>how much does a general practice doctor make</td>\n",
       "      <td>{'is_selected': [0, 0, 0, 0, 1], 'passage_text...</td>\n",
       "      <td>[Family Practice Doctor Salary and General Pra...</td>\n",
       "      <td>3520</td>\n",
       "      <td>[In a commercial real estate, a net lease requ...</td>\n",
       "      <td>In a triple net lease, the tenant is responsib...</td>\n",
       "      <td>0</td>\n",
       "    </tr>\n",
       "    <tr>\n",
       "      <th>1</th>\n",
       "      <td>strep throat contagious period</td>\n",
       "      <td>{'is_selected': [0, 1, 1, 0, 0, 0, 0], 'passag...</td>\n",
       "      <td>[Strep throat is a contagious disease caused b...</td>\n",
       "      <td>899</td>\n",
       "      <td>[tuition and fees for a public four year insti...</td>\n",
       "      <td>The contagious period is over after being on a...</td>\n",
       "      <td>1</td>\n",
       "    </tr>\n",
       "    <tr>\n",
       "      <th>2</th>\n",
       "      <td>does florida require malpractice insurance for...</td>\n",
       "      <td>{'is_selected': [0, 0, 0, 1, 0, 0, 0, 0], 'pas...</td>\n",
       "      <td>[Print Article Email Article. As a nurse pract...</td>\n",
       "      <td>8484</td>\n",
       "      <td>[A nutritionist’s salary varies based on the a...</td>\n",
       "      <td>Nutritionist salary in USA. According to the B...</td>\n",
       "      <td>0</td>\n",
       "    </tr>\n",
       "    <tr>\n",
       "      <th>3</th>\n",
       "      <td>average cost to drain pool</td>\n",
       "      <td>{'is_selected': [0, 1, 0, 0, 0, 0, 0, 0, 0], '...</td>\n",
       "      <td>[1 Re-plastering the interior surface of an av...</td>\n",
       "      <td>2312</td>\n",
       "      <td>[Noun. 1. hydrogen bond-a chemical bond consis...</td>\n",
       "      <td>1 Re-plastering the interior surface of an ave...</td>\n",
       "      <td>1</td>\n",
       "    </tr>\n",
       "    <tr>\n",
       "      <th>4</th>\n",
       "      <td>source of radioactive gaseous radon in homes</td>\n",
       "      <td>{'is_selected': [0, 0, 1, 0, 0, 0, 0, 0, 0], '...</td>\n",
       "      <td>[Radioactivity. Radioactivity is the spontaneo...</td>\n",
       "      <td>1451</td>\n",
       "      <td>[Hypnosis is a state of human consciousness in...</td>\n",
       "      <td>Hypnosis in Psychology. Throughout the history...</td>\n",
       "      <td>0</td>\n",
       "    </tr>\n",
       "  </tbody>\n",
       "</table>\n",
       "</div>"
      ],
      "text/plain": [
       "                                               query  \\\n",
       "0       how much does a general practice doctor make   \n",
       "1                     strep throat contagious period   \n",
       "2  does florida require malpractice insurance for...   \n",
       "3                         average cost to drain pool   \n",
       "4       source of radioactive gaseous radon in homes   \n",
       "\n",
       "                                            passages  \\\n",
       "0  {'is_selected': [0, 0, 0, 0, 1], 'passage_text...   \n",
       "1  {'is_selected': [0, 1, 1, 0, 0, 0, 0], 'passag...   \n",
       "2  {'is_selected': [0, 0, 0, 1, 0, 0, 0, 0], 'pas...   \n",
       "3  {'is_selected': [0, 1, 0, 0, 0, 0, 0, 0, 0], '...   \n",
       "4  {'is_selected': [0, 0, 1, 0, 0, 0, 0, 0, 0], '...   \n",
       "\n",
       "                                             pos_exs  neg_idx  \\\n",
       "0  [Family Practice Doctor Salary and General Pra...     3520   \n",
       "1  [Strep throat is a contagious disease caused b...      899   \n",
       "2  [Print Article Email Article. As a nurse pract...     8484   \n",
       "3  [1 Re-plastering the interior surface of an av...     2312   \n",
       "4  [Radioactivity. Radioactivity is the spontaneo...     1451   \n",
       "\n",
       "                                             neg_exs  \\\n",
       "0  [In a commercial real estate, a net lease requ...   \n",
       "1  [tuition and fees for a public four year insti...   \n",
       "2  [A nutritionist’s salary varies based on the a...   \n",
       "3  [Noun. 1. hydrogen bond-a chemical bond consis...   \n",
       "4  [Hypnosis is a state of human consciousness in...   \n",
       "\n",
       "                                            examples labels  \n",
       "0  In a triple net lease, the tenant is responsib...      0  \n",
       "1  The contagious period is over after being on a...      1  \n",
       "2  Nutritionist salary in USA. According to the B...      0  \n",
       "3  1 Re-plastering the interior surface of an ave...      1  \n",
       "4  Hypnosis in Psychology. Throughout the history...      0  "
      ]
     },
     "execution_count": 73,
     "metadata": {},
     "output_type": "execute_result"
    }
   ],
   "source": [
    "train_ds.head()"
   ]
  },
  {
   "cell_type": "code",
   "execution_count": 74,
   "id": "1886f606",
   "metadata": {},
   "outputs": [],
   "source": [
    "train_ds.to_csv(\"final_train.csv\",index=False)\n",
    "val_ds.to_csv(\"final_val.csv\",index=False)\n",
    "test_ds.to_csv(\"final_test.csv\",index=False)"
   ]
  },
  {
   "cell_type": "code",
   "execution_count": 60,
   "id": "7581802a",
   "metadata": {},
   "outputs": [
    {
     "ename": "KeyboardInterrupt",
     "evalue": "",
     "output_type": "error",
     "traceback": [
      "\u001b[0;31m---------------------------------------------------------------------------\u001b[0m",
      "\u001b[0;31mKeyboardInterrupt\u001b[0m                         Traceback (most recent call last)",
      "Cell \u001b[0;32mIn[60], line 1\u001b[0m\n\u001b[0;32m----> 1\u001b[0m \u001b[43mexploded_new_train\u001b[49m\u001b[38;5;241;43m.\u001b[39;49m\u001b[43mto_csv\u001b[49m\u001b[43m(\u001b[49m\u001b[38;5;124;43m\"\u001b[39;49m\u001b[38;5;124;43mfinal_train.csv\u001b[39;49m\u001b[38;5;124;43m\"\u001b[39;49m\u001b[43m,\u001b[49m\u001b[43mindex\u001b[49m\u001b[38;5;241;43m=\u001b[39;49m\u001b[38;5;28;43;01mFalse\u001b[39;49;00m\u001b[43m)\u001b[49m\n\u001b[1;32m      2\u001b[0m exploded_new_val\u001b[38;5;241m.\u001b[39mto_csv(\u001b[38;5;124m\"\u001b[39m\u001b[38;5;124mfinal_val.csv\u001b[39m\u001b[38;5;124m\"\u001b[39m,index\u001b[38;5;241m=\u001b[39m\u001b[38;5;28;01mFalse\u001b[39;00m)\n\u001b[1;32m      3\u001b[0m exploded_new_test\u001b[38;5;241m.\u001b[39mto_csv(\u001b[38;5;124m\"\u001b[39m\u001b[38;5;124mfinal_test.csv\u001b[39m\u001b[38;5;124m\"\u001b[39m,index\u001b[38;5;241m=\u001b[39m\u001b[38;5;28;01mFalse\u001b[39;00m)\n",
      "File \u001b[0;32m~/miniconda3/envs/hali/lib/python3.11/site-packages/pandas/core/generic.py:3902\u001b[0m, in \u001b[0;36mNDFrame.to_csv\u001b[0;34m(self, path_or_buf, sep, na_rep, float_format, columns, header, index, index_label, mode, encoding, compression, quoting, quotechar, lineterminator, chunksize, date_format, doublequote, escapechar, decimal, errors, storage_options)\u001b[0m\n\u001b[1;32m   3891\u001b[0m df \u001b[38;5;241m=\u001b[39m \u001b[38;5;28mself\u001b[39m \u001b[38;5;28;01mif\u001b[39;00m \u001b[38;5;28misinstance\u001b[39m(\u001b[38;5;28mself\u001b[39m, ABCDataFrame) \u001b[38;5;28;01melse\u001b[39;00m \u001b[38;5;28mself\u001b[39m\u001b[38;5;241m.\u001b[39mto_frame()\n\u001b[1;32m   3893\u001b[0m formatter \u001b[38;5;241m=\u001b[39m DataFrameFormatter(\n\u001b[1;32m   3894\u001b[0m     frame\u001b[38;5;241m=\u001b[39mdf,\n\u001b[1;32m   3895\u001b[0m     header\u001b[38;5;241m=\u001b[39mheader,\n\u001b[0;32m   (...)\u001b[0m\n\u001b[1;32m   3899\u001b[0m     decimal\u001b[38;5;241m=\u001b[39mdecimal,\n\u001b[1;32m   3900\u001b[0m )\n\u001b[0;32m-> 3902\u001b[0m \u001b[38;5;28;01mreturn\u001b[39;00m \u001b[43mDataFrameRenderer\u001b[49m\u001b[43m(\u001b[49m\u001b[43mformatter\u001b[49m\u001b[43m)\u001b[49m\u001b[38;5;241;43m.\u001b[39;49m\u001b[43mto_csv\u001b[49m\u001b[43m(\u001b[49m\n\u001b[1;32m   3903\u001b[0m \u001b[43m    \u001b[49m\u001b[43mpath_or_buf\u001b[49m\u001b[43m,\u001b[49m\n\u001b[1;32m   3904\u001b[0m \u001b[43m    \u001b[49m\u001b[43mlineterminator\u001b[49m\u001b[38;5;241;43m=\u001b[39;49m\u001b[43mlineterminator\u001b[49m\u001b[43m,\u001b[49m\n\u001b[1;32m   3905\u001b[0m \u001b[43m    \u001b[49m\u001b[43msep\u001b[49m\u001b[38;5;241;43m=\u001b[39;49m\u001b[43msep\u001b[49m\u001b[43m,\u001b[49m\n\u001b[1;32m   3906\u001b[0m \u001b[43m    \u001b[49m\u001b[43mencoding\u001b[49m\u001b[38;5;241;43m=\u001b[39;49m\u001b[43mencoding\u001b[49m\u001b[43m,\u001b[49m\n\u001b[1;32m   3907\u001b[0m \u001b[43m    \u001b[49m\u001b[43merrors\u001b[49m\u001b[38;5;241;43m=\u001b[39;49m\u001b[43merrors\u001b[49m\u001b[43m,\u001b[49m\n\u001b[1;32m   3908\u001b[0m \u001b[43m    \u001b[49m\u001b[43mcompression\u001b[49m\u001b[38;5;241;43m=\u001b[39;49m\u001b[43mcompression\u001b[49m\u001b[43m,\u001b[49m\n\u001b[1;32m   3909\u001b[0m \u001b[43m    \u001b[49m\u001b[43mquoting\u001b[49m\u001b[38;5;241;43m=\u001b[39;49m\u001b[43mquoting\u001b[49m\u001b[43m,\u001b[49m\n\u001b[1;32m   3910\u001b[0m \u001b[43m    \u001b[49m\u001b[43mcolumns\u001b[49m\u001b[38;5;241;43m=\u001b[39;49m\u001b[43mcolumns\u001b[49m\u001b[43m,\u001b[49m\n\u001b[1;32m   3911\u001b[0m \u001b[43m    \u001b[49m\u001b[43mindex_label\u001b[49m\u001b[38;5;241;43m=\u001b[39;49m\u001b[43mindex_label\u001b[49m\u001b[43m,\u001b[49m\n\u001b[1;32m   3912\u001b[0m \u001b[43m    \u001b[49m\u001b[43mmode\u001b[49m\u001b[38;5;241;43m=\u001b[39;49m\u001b[43mmode\u001b[49m\u001b[43m,\u001b[49m\n\u001b[1;32m   3913\u001b[0m \u001b[43m    \u001b[49m\u001b[43mchunksize\u001b[49m\u001b[38;5;241;43m=\u001b[39;49m\u001b[43mchunksize\u001b[49m\u001b[43m,\u001b[49m\n\u001b[1;32m   3914\u001b[0m \u001b[43m    \u001b[49m\u001b[43mquotechar\u001b[49m\u001b[38;5;241;43m=\u001b[39;49m\u001b[43mquotechar\u001b[49m\u001b[43m,\u001b[49m\n\u001b[1;32m   3915\u001b[0m \u001b[43m    \u001b[49m\u001b[43mdate_format\u001b[49m\u001b[38;5;241;43m=\u001b[39;49m\u001b[43mdate_format\u001b[49m\u001b[43m,\u001b[49m\n\u001b[1;32m   3916\u001b[0m \u001b[43m    \u001b[49m\u001b[43mdoublequote\u001b[49m\u001b[38;5;241;43m=\u001b[39;49m\u001b[43mdoublequote\u001b[49m\u001b[43m,\u001b[49m\n\u001b[1;32m   3917\u001b[0m \u001b[43m    \u001b[49m\u001b[43mescapechar\u001b[49m\u001b[38;5;241;43m=\u001b[39;49m\u001b[43mescapechar\u001b[49m\u001b[43m,\u001b[49m\n\u001b[1;32m   3918\u001b[0m \u001b[43m    \u001b[49m\u001b[43mstorage_options\u001b[49m\u001b[38;5;241;43m=\u001b[39;49m\u001b[43mstorage_options\u001b[49m\u001b[43m,\u001b[49m\n\u001b[1;32m   3919\u001b[0m \u001b[43m\u001b[49m\u001b[43m)\u001b[49m\n",
      "File \u001b[0;32m~/miniconda3/envs/hali/lib/python3.11/site-packages/pandas/io/formats/format.py:1152\u001b[0m, in \u001b[0;36mDataFrameRenderer.to_csv\u001b[0;34m(self, path_or_buf, encoding, sep, columns, index_label, mode, compression, quoting, quotechar, lineterminator, chunksize, date_format, doublequote, escapechar, errors, storage_options)\u001b[0m\n\u001b[1;32m   1131\u001b[0m     created_buffer \u001b[38;5;241m=\u001b[39m \u001b[38;5;28;01mFalse\u001b[39;00m\n\u001b[1;32m   1133\u001b[0m csv_formatter \u001b[38;5;241m=\u001b[39m CSVFormatter(\n\u001b[1;32m   1134\u001b[0m     path_or_buf\u001b[38;5;241m=\u001b[39mpath_or_buf,\n\u001b[1;32m   1135\u001b[0m     lineterminator\u001b[38;5;241m=\u001b[39mlineterminator,\n\u001b[0;32m   (...)\u001b[0m\n\u001b[1;32m   1150\u001b[0m     formatter\u001b[38;5;241m=\u001b[39m\u001b[38;5;28mself\u001b[39m\u001b[38;5;241m.\u001b[39mfmt,\n\u001b[1;32m   1151\u001b[0m )\n\u001b[0;32m-> 1152\u001b[0m \u001b[43mcsv_formatter\u001b[49m\u001b[38;5;241;43m.\u001b[39;49m\u001b[43msave\u001b[49m\u001b[43m(\u001b[49m\u001b[43m)\u001b[49m\n\u001b[1;32m   1154\u001b[0m \u001b[38;5;28;01mif\u001b[39;00m created_buffer:\n\u001b[1;32m   1155\u001b[0m     \u001b[38;5;28;01massert\u001b[39;00m \u001b[38;5;28misinstance\u001b[39m(path_or_buf, StringIO)\n",
      "File \u001b[0;32m~/miniconda3/envs/hali/lib/python3.11/site-packages/pandas/io/formats/csvs.py:266\u001b[0m, in \u001b[0;36mCSVFormatter.save\u001b[0;34m(self)\u001b[0m\n\u001b[1;32m    247\u001b[0m \u001b[38;5;28;01mwith\u001b[39;00m get_handle(\n\u001b[1;32m    248\u001b[0m     \u001b[38;5;28mself\u001b[39m\u001b[38;5;241m.\u001b[39mfilepath_or_buffer,\n\u001b[1;32m    249\u001b[0m     \u001b[38;5;28mself\u001b[39m\u001b[38;5;241m.\u001b[39mmode,\n\u001b[0;32m   (...)\u001b[0m\n\u001b[1;32m    254\u001b[0m ) \u001b[38;5;28;01mas\u001b[39;00m handles:\n\u001b[1;32m    255\u001b[0m     \u001b[38;5;66;03m# Note: self.encoding is irrelevant here\u001b[39;00m\n\u001b[1;32m    256\u001b[0m     \u001b[38;5;28mself\u001b[39m\u001b[38;5;241m.\u001b[39mwriter \u001b[38;5;241m=\u001b[39m csvlib\u001b[38;5;241m.\u001b[39mwriter(\n\u001b[1;32m    257\u001b[0m         handles\u001b[38;5;241m.\u001b[39mhandle,\n\u001b[1;32m    258\u001b[0m         lineterminator\u001b[38;5;241m=\u001b[39m\u001b[38;5;28mself\u001b[39m\u001b[38;5;241m.\u001b[39mlineterminator,\n\u001b[0;32m   (...)\u001b[0m\n\u001b[1;32m    263\u001b[0m         quotechar\u001b[38;5;241m=\u001b[39m\u001b[38;5;28mself\u001b[39m\u001b[38;5;241m.\u001b[39mquotechar,\n\u001b[1;32m    264\u001b[0m     )\n\u001b[0;32m--> 266\u001b[0m     \u001b[38;5;28;43mself\u001b[39;49m\u001b[38;5;241;43m.\u001b[39;49m\u001b[43m_save\u001b[49m\u001b[43m(\u001b[49m\u001b[43m)\u001b[49m\n",
      "File \u001b[0;32m~/miniconda3/envs/hali/lib/python3.11/site-packages/pandas/io/formats/csvs.py:271\u001b[0m, in \u001b[0;36mCSVFormatter._save\u001b[0;34m(self)\u001b[0m\n\u001b[1;32m    269\u001b[0m \u001b[38;5;28;01mif\u001b[39;00m \u001b[38;5;28mself\u001b[39m\u001b[38;5;241m.\u001b[39m_need_to_save_header:\n\u001b[1;32m    270\u001b[0m     \u001b[38;5;28mself\u001b[39m\u001b[38;5;241m.\u001b[39m_save_header()\n\u001b[0;32m--> 271\u001b[0m \u001b[38;5;28;43mself\u001b[39;49m\u001b[38;5;241;43m.\u001b[39;49m\u001b[43m_save_body\u001b[49m\u001b[43m(\u001b[49m\u001b[43m)\u001b[49m\n",
      "File \u001b[0;32m~/miniconda3/envs/hali/lib/python3.11/site-packages/pandas/io/formats/csvs.py:309\u001b[0m, in \u001b[0;36mCSVFormatter._save_body\u001b[0;34m(self)\u001b[0m\n\u001b[1;32m    307\u001b[0m \u001b[38;5;28;01mif\u001b[39;00m start_i \u001b[38;5;241m>\u001b[39m\u001b[38;5;241m=\u001b[39m end_i:\n\u001b[1;32m    308\u001b[0m     \u001b[38;5;28;01mbreak\u001b[39;00m\n\u001b[0;32m--> 309\u001b[0m \u001b[38;5;28;43mself\u001b[39;49m\u001b[38;5;241;43m.\u001b[39;49m\u001b[43m_save_chunk\u001b[49m\u001b[43m(\u001b[49m\u001b[43mstart_i\u001b[49m\u001b[43m,\u001b[49m\u001b[43m \u001b[49m\u001b[43mend_i\u001b[49m\u001b[43m)\u001b[49m\n",
      "File \u001b[0;32m~/miniconda3/envs/hali/lib/python3.11/site-packages/pandas/io/formats/csvs.py:320\u001b[0m, in \u001b[0;36mCSVFormatter._save_chunk\u001b[0;34m(self, start_i, end_i)\u001b[0m\n\u001b[1;32m    317\u001b[0m data \u001b[38;5;241m=\u001b[39m [res\u001b[38;5;241m.\u001b[39miget_values(i) \u001b[38;5;28;01mfor\u001b[39;00m i \u001b[38;5;129;01min\u001b[39;00m \u001b[38;5;28mrange\u001b[39m(\u001b[38;5;28mlen\u001b[39m(res\u001b[38;5;241m.\u001b[39mitems))]\n\u001b[1;32m    319\u001b[0m ix \u001b[38;5;241m=\u001b[39m \u001b[38;5;28mself\u001b[39m\u001b[38;5;241m.\u001b[39mdata_index[slicer]\u001b[38;5;241m.\u001b[39m_format_native_types(\u001b[38;5;241m*\u001b[39m\u001b[38;5;241m*\u001b[39m\u001b[38;5;28mself\u001b[39m\u001b[38;5;241m.\u001b[39m_number_format)\n\u001b[0;32m--> 320\u001b[0m \u001b[43mlibwriters\u001b[49m\u001b[38;5;241;43m.\u001b[39;49m\u001b[43mwrite_csv_rows\u001b[49m\u001b[43m(\u001b[49m\n\u001b[1;32m    321\u001b[0m \u001b[43m    \u001b[49m\u001b[43mdata\u001b[49m\u001b[43m,\u001b[49m\n\u001b[1;32m    322\u001b[0m \u001b[43m    \u001b[49m\u001b[43mix\u001b[49m\u001b[43m,\u001b[49m\n\u001b[1;32m    323\u001b[0m \u001b[43m    \u001b[49m\u001b[38;5;28;43mself\u001b[39;49m\u001b[38;5;241;43m.\u001b[39;49m\u001b[43mnlevels\u001b[49m\u001b[43m,\u001b[49m\n\u001b[1;32m    324\u001b[0m \u001b[43m    \u001b[49m\u001b[38;5;28;43mself\u001b[39;49m\u001b[38;5;241;43m.\u001b[39;49m\u001b[43mcols\u001b[49m\u001b[43m,\u001b[49m\n\u001b[1;32m    325\u001b[0m \u001b[43m    \u001b[49m\u001b[38;5;28;43mself\u001b[39;49m\u001b[38;5;241;43m.\u001b[39;49m\u001b[43mwriter\u001b[49m\u001b[43m,\u001b[49m\n\u001b[1;32m    326\u001b[0m \u001b[43m\u001b[49m\u001b[43m)\u001b[49m\n",
      "File \u001b[0;32mwriters.pyx:72\u001b[0m, in \u001b[0;36mpandas._libs.writers.write_csv_rows\u001b[0;34m()\u001b[0m\n",
      "\u001b[0;31mKeyboardInterrupt\u001b[0m: "
     ]
    }
   ],
   "source": [
    "# exploded_new_train.to_csv(\"final_train.csv\",index=False)\n",
    "# exploded_new_val.to_csv(\"final_val.csv\",index=False)\n",
    "# exploded_new_test.to_csv(\"final_test.csv\",index=False)"
   ]
  },
  {
   "cell_type": "code",
   "execution_count": 62,
   "id": "df2466cc",
   "metadata": {},
   "outputs": [
    {
     "data": {
      "text/plain": [
       "164794"
      ]
     },
     "execution_count": 62,
     "metadata": {},
     "output_type": "execute_result"
    }
   ],
   "source": [
    "len(exploded_new_val)"
   ]
  },
  {
   "cell_type": "code",
   "execution_count": 57,
   "id": "6dd53a9e",
   "metadata": {},
   "outputs": [
    {
     "data": {
      "text/html": [
       "<div>\n",
       "<style scoped>\n",
       "    .dataframe tbody tr th:only-of-type {\n",
       "        vertical-align: middle;\n",
       "    }\n",
       "\n",
       "    .dataframe tbody tr th {\n",
       "        vertical-align: top;\n",
       "    }\n",
       "\n",
       "    .dataframe thead th {\n",
       "        text-align: right;\n",
       "    }\n",
       "</style>\n",
       "<table border=\"1\" class=\"dataframe\">\n",
       "  <thead>\n",
       "    <tr style=\"text-align: right;\">\n",
       "      <th></th>\n",
       "      <th>query</th>\n",
       "      <th>examples</th>\n",
       "      <th>labels</th>\n",
       "    </tr>\n",
       "  </thead>\n",
       "  <tbody>\n",
       "    <tr>\n",
       "      <th>0</th>\n",
       "      <td>what is rba</td>\n",
       "      <td>Since 2007, the RBA's outstanding reputation h...</td>\n",
       "      <td>1</td>\n",
       "    </tr>\n",
       "    <tr>\n",
       "      <th>1</th>\n",
       "      <td>what is rba</td>\n",
       "      <td>The Reserve Bank of Australia (RBA) came into ...</td>\n",
       "      <td>1</td>\n",
       "    </tr>\n",
       "    <tr>\n",
       "      <th>2</th>\n",
       "      <td>what is rba</td>\n",
       "      <td>RBA Recognized with the 2014 Microsoft US Regi...</td>\n",
       "      <td>1</td>\n",
       "    </tr>\n",
       "    <tr>\n",
       "      <th>3</th>\n",
       "      <td>what is rba</td>\n",
       "      <td>The inner workings of a rebuildable atomizer a...</td>\n",
       "      <td>1</td>\n",
       "    </tr>\n",
       "    <tr>\n",
       "      <th>4</th>\n",
       "      <td>what is rba</td>\n",
       "      <td>Results-Based Accountability® (also known as R...</td>\n",
       "      <td>1</td>\n",
       "    </tr>\n",
       "    <tr>\n",
       "      <th>5</th>\n",
       "      <td>what is rba</td>\n",
       "      <td>Results-Based Accountability® (also known as R...</td>\n",
       "      <td>1</td>\n",
       "    </tr>\n",
       "    <tr>\n",
       "      <th>6</th>\n",
       "      <td>what is rba</td>\n",
       "      <td>RBA uses a data-driven, decision-making proces...</td>\n",
       "      <td>1</td>\n",
       "    </tr>\n",
       "    <tr>\n",
       "      <th>7</th>\n",
       "      <td>what is rba</td>\n",
       "      <td>vs. NetIQ Identity Manager. Risk-based authent...</td>\n",
       "      <td>1</td>\n",
       "    </tr>\n",
       "    <tr>\n",
       "      <th>8</th>\n",
       "      <td>what is rba</td>\n",
       "      <td>A rebuildable atomizer (RBA), often referred t...</td>\n",
       "      <td>1</td>\n",
       "    </tr>\n",
       "    <tr>\n",
       "      <th>9</th>\n",
       "      <td>what is rba</td>\n",
       "      <td>Get To Know Us. RBA is a digital and technolog...</td>\n",
       "      <td>1</td>\n",
       "    </tr>\n",
       "    <tr>\n",
       "      <th>10</th>\n",
       "      <td>what is rba</td>\n",
       "      <td>1 Having a roofing contractor remove (and disp...</td>\n",
       "      <td>0</td>\n",
       "    </tr>\n",
       "    <tr>\n",
       "      <th>11</th>\n",
       "      <td>what is rba</td>\n",
       "      <td>1 Do-it-yourself materials to install an aspha...</td>\n",
       "      <td>0</td>\n",
       "    </tr>\n",
       "    <tr>\n",
       "      <th>12</th>\n",
       "      <td>what is rba</td>\n",
       "      <td>Total contractor’s cost: $4,186 to install a t...</td>\n",
       "      <td>0</td>\n",
       "    </tr>\n",
       "    <tr>\n",
       "      <th>13</th>\n",
       "      <td>what is rba</td>\n",
       "      <td>Underlayment and accessories cost another $40-...</td>\n",
       "      <td>0</td>\n",
       "    </tr>\n",
       "    <tr>\n",
       "      <th>14</th>\n",
       "      <td>what is rba</td>\n",
       "      <td>1 Installing a concrete tile roof can run $7,6...</td>\n",
       "      <td>0</td>\n",
       "    </tr>\n",
       "    <tr>\n",
       "      <th>15</th>\n",
       "      <td>what is rba</td>\n",
       "      <td>1 Cost: A DIY asphalt roof installation on a s...</td>\n",
       "      <td>0</td>\n",
       "    </tr>\n",
       "    <tr>\n",
       "      <th>16</th>\n",
       "      <td>what is rba</td>\n",
       "      <td>HomeAdvisor's Cost Guide says the average nati...</td>\n",
       "      <td>0</td>\n",
       "    </tr>\n",
       "    <tr>\n",
       "      <th>17</th>\n",
       "      <td>what is rba</td>\n",
       "      <td>1 A metal roof is lightweight, durable, fire-r...</td>\n",
       "      <td>0</td>\n",
       "    </tr>\n",
       "    <tr>\n",
       "      <th>18</th>\n",
       "      <td>what is rba</td>\n",
       "      <td>1 Cost: A 2,000 square foot home will cost fro...</td>\n",
       "      <td>0</td>\n",
       "    </tr>\n",
       "    <tr>\n",
       "      <th>19</th>\n",
       "      <td>was ronald reagan a democrat</td>\n",
       "      <td>In his younger years, Ronald Reagan was a memb...</td>\n",
       "      <td>1</td>\n",
       "    </tr>\n",
       "    <tr>\n",
       "      <th>20</th>\n",
       "      <td>was ronald reagan a democrat</td>\n",
       "      <td>From Wikipedia, the free encyclopedia. A Reaga...</td>\n",
       "      <td>1</td>\n",
       "    </tr>\n",
       "  </tbody>\n",
       "</table>\n",
       "</div>"
      ],
      "text/plain": [
       "                           query  \\\n",
       "0                    what is rba   \n",
       "1                    what is rba   \n",
       "2                    what is rba   \n",
       "3                    what is rba   \n",
       "4                    what is rba   \n",
       "5                    what is rba   \n",
       "6                    what is rba   \n",
       "7                    what is rba   \n",
       "8                    what is rba   \n",
       "9                    what is rba   \n",
       "10                   what is rba   \n",
       "11                   what is rba   \n",
       "12                   what is rba   \n",
       "13                   what is rba   \n",
       "14                   what is rba   \n",
       "15                   what is rba   \n",
       "16                   what is rba   \n",
       "17                   what is rba   \n",
       "18                   what is rba   \n",
       "19  was ronald reagan a democrat   \n",
       "20  was ronald reagan a democrat   \n",
       "\n",
       "                                             examples labels  \n",
       "0   Since 2007, the RBA's outstanding reputation h...      1  \n",
       "1   The Reserve Bank of Australia (RBA) came into ...      1  \n",
       "2   RBA Recognized with the 2014 Microsoft US Regi...      1  \n",
       "3   The inner workings of a rebuildable atomizer a...      1  \n",
       "4   Results-Based Accountability® (also known as R...      1  \n",
       "5   Results-Based Accountability® (also known as R...      1  \n",
       "6   RBA uses a data-driven, decision-making proces...      1  \n",
       "7   vs. NetIQ Identity Manager. Risk-based authent...      1  \n",
       "8   A rebuildable atomizer (RBA), often referred t...      1  \n",
       "9   Get To Know Us. RBA is a digital and technolog...      1  \n",
       "10  1 Having a roofing contractor remove (and disp...      0  \n",
       "11  1 Do-it-yourself materials to install an aspha...      0  \n",
       "12  Total contractor’s cost: $4,186 to install a t...      0  \n",
       "13  Underlayment and accessories cost another $40-...      0  \n",
       "14  1 Installing a concrete tile roof can run $7,6...      0  \n",
       "15  1 Cost: A DIY asphalt roof installation on a s...      0  \n",
       "16  HomeAdvisor's Cost Guide says the average nati...      0  \n",
       "17  1 A metal roof is lightweight, durable, fire-r...      0  \n",
       "18  1 Cost: A 2,000 square foot home will cost fro...      0  \n",
       "19  In his younger years, Ronald Reagan was a memb...      1  \n",
       "20  From Wikipedia, the free encyclopedia. A Reaga...      1  "
      ]
     },
     "execution_count": 57,
     "metadata": {},
     "output_type": "execute_result"
    }
   ],
   "source": [
    "exploded_new_train[[\"query\",\"examples\",\"labels\"]].head(21)"
   ]
  },
  {
   "cell_type": "code",
   "execution_count": null,
   "id": "1bd81cd7",
   "metadata": {},
   "outputs": [],
   "source": []
  }
 ],
 "metadata": {
  "kernelspec": {
   "display_name": "Python 3 (ipykernel)",
   "language": "python",
   "name": "python3"
  },
  "language_info": {
   "codemirror_mode": {
    "name": "ipython",
    "version": 3
   },
   "file_extension": ".py",
   "mimetype": "text/x-python",
   "name": "python",
   "nbconvert_exporter": "python",
   "pygments_lexer": "ipython3",
   "version": "3.11.5"
  }
 },
 "nbformat": 4,
 "nbformat_minor": 5
}
